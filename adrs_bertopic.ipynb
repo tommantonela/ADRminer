{
 "cells": [
  {
   "cell_type": "code",
   "execution_count": null,
   "id": "20f40549",
   "metadata": {},
   "outputs": [],
   "source": [
    "import pickle\n",
    "import pandas as pd\n",
    "import json\n",
    "import pprint\n",
    "from tqdm import tqdm\n",
    "import numpy as np\n",
    "import os\n",
    "import sys"
   ]
  },
  {
   "cell_type": "code",
   "execution_count": 2,
   "id": "14b7479c",
   "metadata": {},
   "outputs": [],
   "source": [
    "from adr import adr"
   ]
  },
  {
   "cell_type": "code",
   "execution_count": null,
   "id": "e2633424",
   "metadata": {},
   "outputs": [],
   "source": [
    "from bertopic import BERTopic\n",
    "from bertopic.representation import KeyBERTInspired\n",
    "from bertopic.representation import MaximalMarginalRelevance\n",
    "from sklearn.feature_extraction.text import CountVectorizer\n",
    "from bertopic.vectorizers import ClassTfidfTransformer\n",
    "from bertopic.backend._sentencetransformers import SentenceTransformerBackend"
   ]
  },
  {
   "cell_type": "code",
   "execution_count": null,
   "id": "4cdbd2e8",
   "metadata": {},
   "outputs": [],
   "source": [
    "# This is a dictionary with all the details of the ADRs, with a hierarchical organization\n",
    "# that goes from the organization to its projects and finally the ADR files inside each project\n",
    "ENGLISH_DATAPATH = './data/LLM4ADR-adrs__adrs_english.pickle' \n",
    "\n",
    "TOPIC_FOLDER = \"saved_topicmodel\""
   ]
  },
  {
   "cell_type": "code",
   "execution_count": 7,
   "id": "9072c5ac",
   "metadata": {},
   "outputs": [
    {
     "name": "stdout",
     "output_type": "stream",
     "text": [
      "547 projects/organizations?\n"
     ]
    }
   ],
   "source": [
    "with open(ENGLISH_DATAPATH,'rb') as file:\n",
    "    dict_adrs = pickle.load(file)\n",
    "print(len(dict_adrs), \"projects/organizations?\")"
   ]
  },
  {
   "cell_type": "code",
   "execution_count": null,
   "id": "35f156e8",
   "metadata": {},
   "outputs": [
    {
     "name": "stderr",
     "output_type": "stream",
     "text": [
      "organizations: 100%|██████████| 547/547 [00:00<00:00, 6460.22it/s]"
     ]
    },
    {
     "name": "stdout",
     "output_type": "stream",
     "text": [
      "all org+projects:  867\n",
      "* filtered projects:  555\n",
      "* valid projects:  312\n"
     ]
    },
    {
     "name": "stderr",
     "output_type": "stream",
     "text": [
      "\n"
     ]
    }
   ],
   "source": [
    "# Check projects and ADRs and filter out those that do not have enough ADRs or ADRs that are too short\n",
    "min_adrs_per_project = 5\n",
    "min_adr_length = 500\n",
    "\n",
    "valid_projects = set()\n",
    "filtered_projects = set()\n",
    "all_projects = set()\n",
    "for org in tqdm(dict_adrs, \"organizations\"): \n",
    "    for project in dict_adrs[org]:\n",
    "        all_projects.add((org, project))\n",
    "        # print(dict_adrs[org][project].keys())\n",
    "        if len(dict_adrs[org][project]) < min_adrs_per_project:\n",
    "            filtered_projects.add((org, project))\n",
    "            continue\n",
    "        valid = 0\n",
    "        for adr_ in dict_adrs[org][project]: \n",
    "            s = dict_adrs[org][project][adr_].get_content_no_code_str()\n",
    "            if (len(s) >= min_adr_length) and not s.isspace() :\n",
    "                valid += 1\n",
    "        if valid < min_adrs_per_project:\n",
    "            filtered_projects.add((org, project))\n",
    "            continue\n",
    "        # print(\"Valid project: \", org, project)\n",
    "        valid_projects.add((org, project))\n",
    "\n",
    "print(\"all org+projects: \", len(all_projects))\n",
    "print(\"* filtered projects: \", len(filtered_projects))\n",
    "print(\"* valid projects: \", len(valid_projects))"
   ]
  },
  {
   "cell_type": "code",
   "execution_count": null,
   "id": "88710ad7",
   "metadata": {},
   "outputs": [
    {
     "name": "stdout",
     "output_type": "stream",
     "text": [
      "Total number of ADRs:  6061\n",
      "Total number of valid ADRs:  4316\n"
     ]
    }
   ],
   "source": [
    "def count_adrs(projects):\n",
    "    count_adrs = 0\n",
    "    for org, project in projects:\n",
    "        adrs = dict_adrs[org][project]\n",
    "        count_adrs += len(adrs)\n",
    "    return count_adrs\n",
    "\n",
    "print(\"Total number of ADRs: \", count_adrs(all_projects))\n",
    "print(\"Total number of valid ADRs: \", count_adrs(valid_projects))"
   ]
  },
  {
   "cell_type": "code",
   "execution_count": 16,
   "id": "5a782930",
   "metadata": {},
   "outputs": [],
   "source": [
    "def get_text_column(df_texts,column='original_text'):\n",
    "    tt = df_texts[column]\n",
    "    if isinstance(tt.values[0],str):\n",
    "        return tt.values.tolist()\n",
    "    tt = [' '.join(x) for x in tt]\n",
    "    return tt\n",
    "\n",
    "def get_adr_texts(adrs_dict):\n",
    "    \"\"\"\n",
    "    Get the text of the ADRs\n",
    "    :param adrs_dict: dictionary with the ADRs\n",
    "    :return: list of strings with the text of the ADRs\n",
    "    \"\"\"\n",
    "    texts = []\n",
    "    for org in adrs_dict.keys():\n",
    "        for proj in adrs_dict[org].keys():\n",
    "            adrs = list(adrs_dict[org][proj].values())\n",
    "            texts.extend(adrs)\n",
    "    return texts\n",
    "\n",
    "def get_docs(org_projects, adrs_dict, field='content', verbose=False):\n",
    "    docs = []\n",
    "    for org, project in org_projects:\n",
    "        if verbose:\n",
    "            print(\"===\", org, project)  # Added print statement for verbose output\n",
    "        adrs = adrs_dict[org][project]\n",
    "        for adr in adrs.keys():\n",
    "            if verbose:\n",
    "                print(adr)\n",
    "            doc=\"\"\n",
    "            if field == 'content':\n",
    "                doc = adrs[adr].get_content_no_code_str()\n",
    "            elif field == 'title':\n",
    "                doc = adrs[adr].get_title()\n",
    "            elif field == 'both':\n",
    "                doc = adrs[adr].get_title() + \" \" + adrs[adr].get_content_no_code_str()\n",
    "            if verbose:\n",
    "                print(doc)\n",
    "            docs.append(doc)\n",
    "    if verbose:\n",
    "        print(\"===\")\n",
    "    return docs\n"
   ]
  },
  {
   "cell_type": "code",
   "execution_count": 17,
   "id": "66b72328",
   "metadata": {},
   "outputs": [
    {
     "name": "stdout",
     "output_type": "stream",
     "text": [
      "Number of documents (cleaned ADRs):  4316\n"
     ]
    }
   ],
   "source": [
    "docs = get_docs(valid_projects, dict_adrs, verbose=False, field='content')\n",
    "print(\"Number of documents (cleaned ADRs): \", len(docs))"
   ]
  },
  {
   "cell_type": "code",
   "execution_count": null,
   "id": "6678a048",
   "metadata": {},
   "outputs": [
    {
     "name": "stdout",
     "output_type": "stream",
     "text": [
      "Before: 4316\n",
      "After: 4312\n"
     ]
    }
   ],
   "source": [
    "# Get the corpus of documents for topic modeling\n",
    "corpus = docs\n",
    "print(\"Before:\", len(corpus))\n",
    "\n",
    "# Removing spurious strings (if any)\n",
    "corpus = [s for s in corpus if (len(s) > 0) and not s.isspace()]\n",
    "print(\"After:\", len(corpus))"
   ]
  },
  {
   "cell_type": "code",
   "execution_count": null,
   "id": "50e402cf",
   "metadata": {},
   "outputs": [],
   "source": [
    "representation_model1 = KeyBERTInspired()\n",
    "\n",
    "representation_model = {\n",
    "    \"Main\": representation_model1, # KeyBERT\n",
    "}"
   ]
  },
  {
   "cell_type": "code",
   "execution_count": null,
   "id": "40ed971c",
   "metadata": {},
   "outputs": [],
   "source": [
    "from model2vec import StaticModel\n",
    "from sentence_transformers import SentenceTransformer\n",
    "from sklearn.feature_extraction.text import CountVectorizer\n",
    "\n",
    "vectorizer_model = CountVectorizer(stop_words=\"english\")\n",
    "\n",
    "# Pre-calculate embeddings\n",
    "predefined_embedding_model = 'all-MiniLM-L6-v2' \n",
    "embedding_model = SentenceTransformer(predefined_embedding_model)"
   ]
  },
  {
   "cell_type": "code",
   "execution_count": 23,
   "id": "231e4308",
   "metadata": {},
   "outputs": [],
   "source": [
    "# BERTopic\n",
    "topic_model = BERTopic(embedding_model=embedding_model, \n",
    "                       representation_model=representation_model,\n",
    "                       vectorizer_model=vectorizer_model,\n",
    "                       nr_topics='auto', # It tries to find a reduced number of topics\n",
    "                       verbose=True)"
   ]
  },
  {
   "cell_type": "code",
   "execution_count": 24,
   "id": "ab9e0aa7",
   "metadata": {},
   "outputs": [
    {
     "name": "stderr",
     "output_type": "stream",
     "text": [
      "2025-05-22 21:58:36,409 - BERTopic - Embedding - Transforming documents to embeddings.\n"
     ]
    },
    {
     "data": {
      "application/vnd.jupyter.widget-view+json": {
       "model_id": "3e4426042d8a4370adcc33f2e2328cb7",
       "version_major": 2,
       "version_minor": 0
      },
      "text/plain": [
       "Batches:   0%|          | 0/135 [00:00<?, ?it/s]"
      ]
     },
     "metadata": {},
     "output_type": "display_data"
    },
    {
     "name": "stderr",
     "output_type": "stream",
     "text": [
      "2025-05-22 21:59:06,804 - BERTopic - Embedding - Completed ✓\n",
      "2025-05-22 21:59:06,805 - BERTopic - Dimensionality - Fitting the dimensionality reduction algorithm\n",
      "OMP: Info #270: omp_set_nested routine deprecated, please use omp_set_max_active_levels instead.\n",
      "2025-05-22 21:59:18,649 - BERTopic - Dimensionality - Completed ✓\n",
      "2025-05-22 21:59:18,650 - BERTopic - Cluster - Start clustering the reduced embeddings\n",
      "2025-05-22 21:59:18,767 - BERTopic - Cluster - Completed ✓\n",
      "2025-05-22 21:59:18,768 - BERTopic - Representation - Extracting topics using c-TF-IDF for topic reduction.\n",
      "2025-05-22 21:59:19,444 - BERTopic - Representation - Completed ✓\n",
      "2025-05-22 21:59:19,444 - BERTopic - Topic reduction - Reducing number of topics\n",
      "2025-05-22 21:59:19,460 - BERTopic - Representation - Fine-tuning topics using representation models.\n",
      "100%|██████████| 76/76 [03:41<00:00,  2.92s/it]\n",
      "2025-05-22 22:03:10,263 - BERTopic - Representation - Completed ✓\n",
      "2025-05-22 22:03:10,283 - BERTopic - Topic reduction - Reduced number of topics from 111 to 76\n"
     ]
    },
    {
     "name": "stdout",
     "output_type": "stream",
     "text": [
      "Topics: 76\n"
     ]
    }
   ],
   "source": [
    "topics = topic_model.fit_transform(corpus) # This takes around 5 minutes\n",
    "n = len(topic_model.get_topics())\n",
    "print(\"Topics:\", n)"
   ]
  },
  {
   "cell_type": "code",
   "execution_count": 25,
   "id": "48ef67cf",
   "metadata": {},
   "outputs": [],
   "source": [
    "# Further reduce topics. Only if we want to give a specific number of topics\n",
    "# topic_model.reduce_topics(corpus, nr_topics=30)"
   ]
  },
  {
   "cell_type": "code",
   "execution_count": null,
   "id": "5a459da8",
   "metadata": {},
   "outputs": [],
   "source": [
    "embedding_model_st = SentenceTransformerBackend(predefined_embedding_model) \n",
    "\n",
    "# Load model and add embedding model\n",
    "# loaded_model = BERTopic.load(TOPIC_FOLDER, embedding_model=embedding_model_st) #embedding_model_openai)\n",
    "# topic_model = loaded_model"
   ]
  },
  {
   "cell_type": "code",
   "execution_count": null,
   "id": "e6853d5e",
   "metadata": {},
   "outputs": [],
   "source": [
    "# Show the topic model information\n",
    "topics_df = topic_model.get_topic_info()\n",
    "# topics_df.to_csv('topics-sentencetransfomers.csv', index=False)\n",
    "# topics_df = loaded_model.get_topic_info()\n",
    "topics_df"
   ]
  },
  {
   "cell_type": "code",
   "execution_count": null,
   "id": "54b120b0",
   "metadata": {},
   "outputs": [],
   "source": [
    "# Topic size (count of documents in each topic) can be seen as a measure of the importance of the topic\n",
    "# The dataframe can be ordered according to the size of the topic\n",
    "top20_topics = topics_df.sort_values(by=\"Count\", ascending=False).reset_index(drop=True).head(20) # Top 20 topics\n",
    "top20_topics"
   ]
  },
  {
   "cell_type": "code",
   "execution_count": null,
   "id": "2b1bb32e",
   "metadata": {},
   "outputs": [],
   "source": [
    "topic_model.visualize_hierarchy(custom_labels=False) # Topic hierarchy to check for spurious topics (i.e., irrelevant contents)"
   ]
  },
  {
   "cell_type": "code",
   "execution_count": null,
   "id": "c0a09e72",
   "metadata": {},
   "outputs": [
    {
     "name": "stderr",
     "output_type": "stream",
     "text": [
      "100%|██████████| 73/73 [03:32<00:00,  2.91s/it]\n"
     ]
    }
   ],
   "source": [
    "# For ADR contents (only)\n",
    "# topics_to_merge = [-1, 3, 22, 23] # Spurious topics (e.g., ADR template) \n",
    "# topic_model.merge_topics(corpus, topics_to_merge) # It can take a while"
   ]
  },
  {
   "cell_type": "code",
   "execution_count": 32,
   "id": "88b97734",
   "metadata": {},
   "outputs": [],
   "source": [
    "topics_df = topic_model.get_topic_info()"
   ]
  },
  {
   "cell_type": "code",
   "execution_count": 37,
   "id": "a91e4987",
   "metadata": {},
   "outputs": [
    {
     "data": {
      "text/plain": [
       "{-1: '-1_architectural_aws_tools_services',\n",
       " 0: '0_jsx_fxa_react_framework',\n",
       " 1: '1_storing_storage_metadata_stored',\n",
       " 2: '2_docker_kubernetes_deployment_pods',\n",
       " 3: '3_rabbitmq_queue_listener_mailqueue',\n",
       " 4: '4_tendermint_consensus_evidence_validators',\n",
       " 5: '5_apis_swagger_api_openapi',\n",
       " 6: '6_branches_releases_branching_branch',\n",
       " 7: '7_oauth2_oauth_authentication_authenticate',\n",
       " 8: '8_python_django_flask_wsgi',\n",
       " 9: '9_cosmos_sdk_protobuf_compatibility',\n",
       " 10: '10_plugins_specification_variants_exceptions',\n",
       " 11: '11_testcontainers_testing_tests_testharness',\n",
       " 12: '12_hmpps_frontend_webjars_hmrc',\n",
       " 13: '13_terraform_cloudformation_provisioning_cloud',\n",
       " 14: '14_kubernetes_secrets_encrypt_encryption',\n",
       " 15: '15_testing_tests_test_tested',\n",
       " 16: '16_prometheus_monitoring_cloudwatch_metrics',\n",
       " 17: '17_wikibaseclient_wikibaselexeme_wikibaserepo_wikibase',\n",
       " 18: '18_elasticsearch_lucene_searches_searching',\n",
       " 19: '19_eclipse_xml_epl_java',\n",
       " 20: '20_cassandramessageidmapper_cassandramessagemapper_imapuidtable_messageidtable',\n",
       " 21: '21_logging_logs_logstash_logger',\n",
       " 22: '22_typescript_types_type_strict_types',\n",
       " 23: '23_tensorflow_deeplearning4j_frameworks_nd4j',\n",
       " 24: '24_commits_prettier_github_git',\n",
       " 25: '25_swift_xcode_ios_uitestablepage',\n",
       " 26: '26_notifications_emails_alerts_notification',\n",
       " 27: '27_architecture_embedded_vm_platform',\n",
       " 28: '28_translators_translations_localize_i18n',\n",
       " 29: '29_java_jdk_intellij_scala',\n",
       " 30: '30_uuids_uuid_identifiers_identifier',\n",
       " 31: '31_authorization_privileges_roles_permissions',\n",
       " 32: '32_matlab_python_pythonic_light_python_wrapper',\n",
       " 33: '33_tokens_proposals_staking_consensus',\n",
       " 34: '34_apis_azure_apigee_api',\n",
       " 35: '35_fields_database_qualification_mto_shipments',\n",
       " 36: '36_variantsearch_joinawaresearch_joinmergesearch_genesearch',\n",
       " 37: '37_screens_setloadingscreenvisible_showloadingscreen_screen',\n",
       " 38: '38_typescript_standardjs_eslint_stylelint',\n",
       " 39: '39_timestamps_datetime_timestamp_utc',\n",
       " 40: '40_edgex_edgexfoundry_secretprovider_sdks',\n",
       " 41: '41_holochain_qml_holoport_uis',\n",
       " 42: '42_clojure_cljdoc_documentation_metadata',\n",
       " 43: '43_openmrs_documentation_setupopenmrs_styleguide',\n",
       " 44: '44_hyperlink_hyperlinked_fancyref_urls',\n",
       " 45: '45_graphql_apis_gql_axios',\n",
       " 46: '46_dependabot_dependencies_dependency_github',\n",
       " 47: '47_flutter_downloader_downloadmanager_targetsdkversion_fileextension',\n",
       " 48: '48_arachne_owl_configuration_ontology',\n",
       " 49: '49_pipelines_pipeline_pipelinestep_workflows',\n",
       " 50: '50_features_feature_feature_next_22222_feature_next_11111',\n",
       " 51: '51_cassandra_atlasdb_transactions_transaction',\n",
       " 52: '52_protocol_secrecy_otr_otrv4',\n",
       " 53: '53_geocoding_geolocation_geocoder_postcode',\n",
       " 54: '54_ocrmypdf_pdfs_pdf_pdfbox',\n",
       " 55: '55_licenses_licensing_licences_license',\n",
       " 56: '56_jwt_jwts_websocket_tokens',\n",
       " 57: '57_ibc_relaying_relay_relayer',\n",
       " 58: '58_konduitservingnodeconfigurer_deployment_deploys_config',\n",
       " 59: '59_scratch3_scratch_ftduino_transcompiler',\n",
       " 60: '60_collections_collection_decentraland_assets',\n",
       " 61: '61_kafkarator_kafka_kubernetes_aivenapplication',\n",
       " 62: '62_microservices_microservice_services_monolithic',\n",
       " 63: '63_domains_app_domain_internalrootdomain_dns',\n",
       " 64: '64_eslint_typescript_es6_tsconfig',\n",
       " 65: '65_browser_browsers_browserslist_firefox',\n",
       " 66: '66_annotations_tasktype_tasks_annotation',\n",
       " 67: '67_blobstore_blobstodelete_storage_blobs',\n",
       " 68: '68_tokens_sessions_session_token',\n",
       " 69: '69_github_git_repositories_repos',\n",
       " 70: '70_ccs_marketplace_services_procurements',\n",
       " 71: '71_hibernate_databases_database_jpa'}"
      ]
     },
     "execution_count": 37,
     "metadata": {},
     "output_type": "execute_result"
    }
   ],
   "source": [
    "topic_model.topic_labels_"
   ]
  },
  {
   "cell_type": "code",
   "execution_count": 39,
   "id": "17dd51b7",
   "metadata": {},
   "outputs": [],
   "source": [
    "topic_model.save(TOPIC_FOLDER, serialization=\"safetensors\", save_ctfidf=True, save_embedding_model=embedding_model)\n",
    "topics_df.to_pickle(TOPIC_FOLDER + '/' + 'topics_df.pickle')"
   ]
  },
  {
   "cell_type": "markdown",
   "id": "7cec33a9",
   "metadata": {},
   "source": [
    "### Visualization of Documents"
   ]
  },
  {
   "cell_type": "code",
   "execution_count": 42,
   "id": "6dfe2a38",
   "metadata": {},
   "outputs": [
    {
     "data": {
      "application/vnd.jupyter.widget-view+json": {
       "model_id": "4161f8db97c14233bf4f8cac24bb8369",
       "version_major": 2,
       "version_minor": 0
      },
      "text/plain": [
       "Batches:   0%|          | 0/135 [00:00<?, ?it/s]"
      ]
     },
     "metadata": {},
     "output_type": "display_data"
    }
   ],
   "source": [
    "embeddings = embedding_model.encode(corpus, show_progress_bar=True)"
   ]
  },
  {
   "cell_type": "code",
   "execution_count": 43,
   "id": "b79099f5",
   "metadata": {},
   "outputs": [
    {
     "name": "stdout",
     "output_type": "stream",
     "text": [
      "Number of ADRs: 4312\n",
      "Number of topics: 73\n"
     ]
    }
   ],
   "source": [
    "n_adrs = len(corpus)\n",
    "n_topics = len(topics_df)\n",
    "print(\"Number of ADRs:\", n_adrs)\n",
    "print(\"Number of topics:\", n_topics)"
   ]
  },
  {
   "cell_type": "code",
   "execution_count": null,
   "id": "b957688f",
   "metadata": {},
   "outputs": [
    {
     "data": {
      "application/vnd.jupyter.widget-view+json": {
       "model_id": "6f3e2541c10047b2bdb4e8d80e10efb9",
       "version_major": 2,
       "version_minor": 0
      },
      "text/plain": [
       "  0%|          | 0/500 [00:00<?, ?it/s]"
      ]
     },
     "metadata": {},
     "output_type": "display_data"
    },
    {
     "name": "stdout",
     "output_type": "stream",
     "text": [
      "Resetting positions to accord with alignment\n"
     ]
    },
    {
     "data": {
      "image/png": "[encoded data removed]",
      "text/plain": [
       "<Figure size 1200x750 with 1 Axes>"
      ]
     },
     "metadata": {},
     "output_type": "display_data"
    }
   ],
   "source": [
    "# Note: the specific topics to be shown can be selected and passed as arguments (e.g., topics=[0,1,2])\n",
    "first_20_topics = list(range(-1,20))\n",
    "fig = topic_model.visualize_document_datamap(corpus, embeddings=embeddings, custom_labels=True, topic_prefix=True, topics=first_20_topics,\n",
    "                                       title=None, #\"Top-20 Topics in ADRs (ADRs: {} - Topics: {})\".format(n_adrs, n_topics), \n",
    "                                       datamap_kwds={\"label_over_points\": True,  \n",
    "                                                     #\"label_font_size\": 11,\n",
    "                                                     \"dynamic_label_size\": True, \"max_font_size\": 18, \"min_font_size\": 9\n",
    "                                                     })"
   ]
  },
  {
   "cell_type": "code",
   "execution_count": null,
   "id": "d34c7af8",
   "metadata": {},
   "outputs": [],
   "source": [
    "# It works only if the number of topics is not too high\n",
    "topic_model.visualize_document_datamap(corpus, embeddings=embeddings, interactive=True, custom_labels=True, topics=first_20_topics,\n",
    "                                       topic_prefix=True, enable_search=True, title=\"Top-20 Topics in ADRs\") "
   ]
  },
  {
   "cell_type": "markdown",
   "id": "217a4bc1",
   "metadata": {},
   "source": [
    "### Visualization of Topics"
   ]
  },
  {
   "cell_type": "code",
   "execution_count": null,
   "id": "a8ef5f69",
   "metadata": {},
   "outputs": [
    {
     "data": {
      "application/vnd.plotly.v1+json": {
       "config": {
        "plotlyServerURL": "https://plot.ly"
       },
       "data": [
        {
         "customdata": [
          [
           0,
           "Redesigning CSS and Component Architecture for FxA",
           217
          ],
          [
           1,
           "Data Storage and Management in AWS",
           201
          ],
          [
           2,
           "Containerization and Deployment Strategies in Kubernetes",
           199
          ],
          [
           3,
           "Distributed Mailbox Event Processing Architecture",
           150
          ],
          [
           4,
           "Tendermint Evidence Handling and Consensus Mechanism",
           104
          ],
          [
           5,
           "API Versioning and Specification Management",
           91
          ],
          [
           6,
           "GitFlow Release Management and Documentation Strategy",
           82
          ],
          [
           7,
           "User Authentication and Authorization Strategies",
           74
          ],
          [
           8,
           "Python Versioning and API Development Decisions",
           66
          ],
          [
           9,
           "Cosmos SDK Module Communication and Encoding Design",
           55
          ],
          [
           10,
           "Plugin Coordination and Error Handling in Elektra",
           55
          ],
          [
           11,
           "Testing Strategies and Architectural Design Decisions",
           47
          ],
          [
           12,
           "Frontend Development for HMRC and GOV.UK Services",
           46
          ],
          [
           13,
           "Terraform Infrastructure Management for Cloud Deployment",
           45
          ],
          [
           14,
           "Consistent Management of Application Secrets",
           45
          ],
          [
           15,
           "Automated Testing Frameworks and Practices in JavaScript",
           44
          ],
          [
           16,
           "Prometheus Metrics and Monitoring for Reliability",
           39
          ],
          [
           17,
           "Wikibase and MediaWiki Integration and Maintenance",
           39
          ],
          [
           18,
           "Search Functionality and Indexing Solutions",
           38
          ],
          [
           19,
           "Software Licensing and TOSCA Design Decisions",
           36
          ]
         ],
         "hovertemplate": "<b>Topic %{customdata[0]}</b><br>%{customdata[1]}<br>Size: %{customdata[2]}",
         "legendgroup": "",
         "marker": {
          "color": "#B0BEC5",
          "line": {
           "color": "DarkSlateGrey",
           "width": 2
          },
          "size": {
           "bdata": "2QDJAMcAlgBoAFsAUgBKAEIANwA3AC8ALgAtAC0ALAAnACcAJgAkAA==",
           "dtype": "i2"
          },
          "sizemode": "area",
          "sizeref": 0.135625,
          "symbol": "circle"
         },
         "mode": "markers",
         "name": "",
         "orientation": "v",
         "showlegend": false,
         "type": "scatter",
         "x": {
          "bdata": "2nUjv1EVfT8HW7LBZfkbvyg1cL9gb7k/WCqNQNnQr8FqA+k/sxCZv4wAiL8mJCq+MAlEv/ALtMGiwa7BbCDbvqDzNz/7O49AnKIdPzfZnT8=",
          "dtype": "f4"
         },
         "xaxis": "x",
         "y": {
          "bdata": "iUKEwbo7l0Hp1gPB+yWbQYyinUFJcY9BfvO+QNOG/cCHeoxBO7+fQYXSoUHoAIjBfT+Dwck4B8GrSfnAweyFwS18mkGe4bxA4K6WQZCrjEE=",
          "dtype": "f4"
         },
         "yaxis": "y"
        }
       ],
       "layout": {
        "annotations": [
         {
          "showarrow": false,
          "text": "D1",
          "x": -25.881703186035157,
          "y": 1.8557263851165775,
          "yshift": 10
         },
         {
          "showarrow": false,
          "text": "D2",
          "x": -10.36711028814316,
          "xshift": 10,
          "y": 23.261961650848388
         }
        ],
        "height": 650,
        "hoverlabel": {
         "bgcolor": "white",
         "font": {
          "family": "Rockwell",
          "size": 16
         }
        },
        "legend": {
         "itemsizing": "constant",
         "tracegroupgap": 0
        },
        "margin": {
         "t": 60
        },
        "shapes": [
         {
          "line": {
           "color": "#CFD8DC",
           "width": 2
          },
          "type": "line",
          "x0": -10.36711028814316,
          "x1": -10.36711028814316,
          "y0": -19.550508880615233,
          "y1": 23.261961650848388
         },
         {
          "line": {
           "color": "#9E9E9E",
           "width": 2
          },
          "type": "line",
          "x0": -25.881703186035157,
          "x1": 5.14748260974884,
          "y0": 1.8557263851165775,
          "y1": 1.8557263851165775
         }
        ],
        "sliders": [
         {
          "active": 0,
          "pad": {
           "t": 50
          },
          "steps": [
           {
            "args": [
             {
              "marker.color": [
               [
                "red",
                "#B0BEC5",
                "#B0BEC5",
                "#B0BEC5",
                "#B0BEC5",
                "#B0BEC5",
                "#B0BEC5",
                "#B0BEC5",
                "#B0BEC5",
                "#B0BEC5",
                "#B0BEC5",
                "#B0BEC5",
                "#B0BEC5",
                "#B0BEC5",
                "#B0BEC5",
                "#B0BEC5",
                "#B0BEC5",
                "#B0BEC5",
                "#B0BEC5",
                "#B0BEC5"
               ]
              ]
             }
            ],
            "label": "Topic 0",
            "method": "update"
           },
           {
            "args": [
             {
              "marker.color": [
               [
                "#B0BEC5",
                "red",
                "#B0BEC5",
                "#B0BEC5",
                "#B0BEC5",
                "#B0BEC5",
                "#B0BEC5",
                "#B0BEC5",
                "#B0BEC5",
                "#B0BEC5",
                "#B0BEC5",
                "#B0BEC5",
                "#B0BEC5",
                "#B0BEC5",
                "#B0BEC5",
                "#B0BEC5",
                "#B0BEC5",
                "#B0BEC5",
                "#B0BEC5",
                "#B0BEC5"
               ]
              ]
             }
            ],
            "label": "Topic 1",
            "method": "update"
           },
           {
            "args": [
             {
              "marker.color": [
               [
                "#B0BEC5",
                "#B0BEC5",
                "red",
                "#B0BEC5",
                "#B0BEC5",
                "#B0BEC5",
                "#B0BEC5",
                "#B0BEC5",
                "#B0BEC5",
                "#B0BEC5",
                "#B0BEC5",
                "#B0BEC5",
                "#B0BEC5",
                "#B0BEC5",
                "#B0BEC5",
                "#B0BEC5",
                "#B0BEC5",
                "#B0BEC5",
                "#B0BEC5",
                "#B0BEC5"
               ]
              ]
             }
            ],
            "label": "Topic 2",
            "method": "update"
           },
           {
            "args": [
             {
              "marker.color": [
               [
                "#B0BEC5",
                "#B0BEC5",
                "#B0BEC5",
                "red",
                "#B0BEC5",
                "#B0BEC5",
                "#B0BEC5",
                "#B0BEC5",
                "#B0BEC5",
                "#B0BEC5",
                "#B0BEC5",
                "#B0BEC5",
                "#B0BEC5",
                "#B0BEC5",
                "#B0BEC5",
                "#B0BEC5",
                "#B0BEC5",
                "#B0BEC5",
                "#B0BEC5",
                "#B0BEC5"
               ]
              ]
             }
            ],
            "label": "Topic 3",
            "method": "update"
           },
           {
            "args": [
             {
              "marker.color": [
               [
                "#B0BEC5",
                "#B0BEC5",
                "#B0BEC5",
                "#B0BEC5",
                "red",
                "#B0BEC5",
                "#B0BEC5",
                "#B0BEC5",
                "#B0BEC5",
                "#B0BEC5",
                "#B0BEC5",
                "#B0BEC5",
                "#B0BEC5",
                "#B0BEC5",
                "#B0BEC5",
                "#B0BEC5",
                "#B0BEC5",
                "#B0BEC5",
                "#B0BEC5",
                "#B0BEC5"
               ]
              ]
             }
            ],
            "label": "Topic 4",
            "method": "update"
           },
           {
            "args": [
             {
              "marker.color": [
               [
                "#B0BEC5",
                "#B0BEC5",
                "#B0BEC5",
                "#B0BEC5",
                "#B0BEC5",
                "red",
                "#B0BEC5",
                "#B0BEC5",
                "#B0BEC5",
                "#B0BEC5",
                "#B0BEC5",
                "#B0BEC5",
                "#B0BEC5",
                "#B0BEC5",
                "#B0BEC5",
                "#B0BEC5",
                "#B0BEC5",
                "#B0BEC5",
                "#B0BEC5",
                "#B0BEC5"
               ]
              ]
             }
            ],
            "label": "Topic 5",
            "method": "update"
           },
           {
            "args": [
             {
              "marker.color": [
               [
                "#B0BEC5",
                "#B0BEC5",
                "#B0BEC5",
                "#B0BEC5",
                "#B0BEC5",
                "#B0BEC5",
                "red",
                "#B0BEC5",
                "#B0BEC5",
                "#B0BEC5",
                "#B0BEC5",
                "#B0BEC5",
                "#B0BEC5",
                "#B0BEC5",
                "#B0BEC5",
                "#B0BEC5",
                "#B0BEC5",
                "#B0BEC5",
                "#B0BEC5",
                "#B0BEC5"
               ]
              ]
             }
            ],
            "label": "Topic 6",
            "method": "update"
           },
           {
            "args": [
             {
              "marker.color": [
               [
                "#B0BEC5",
                "#B0BEC5",
                "#B0BEC5",
                "#B0BEC5",
                "#B0BEC5",
                "#B0BEC5",
                "#B0BEC5",
                "red",
                "#B0BEC5",
                "#B0BEC5",
                "#B0BEC5",
                "#B0BEC5",
                "#B0BEC5",
                "#B0BEC5",
                "#B0BEC5",
                "#B0BEC5",
                "#B0BEC5",
                "#B0BEC5",
                "#B0BEC5",
                "#B0BEC5"
               ]
              ]
             }
            ],
            "label": "Topic 7",
            "method": "update"
           },
           {
            "args": [
             {
              "marker.color": [
               [
                "#B0BEC5",
                "#B0BEC5",
                "#B0BEC5",
                "#B0BEC5",
                "#B0BEC5",
                "#B0BEC5",
                "#B0BEC5",
                "#B0BEC5",
                "red",
                "#B0BEC5",
                "#B0BEC5",
                "#B0BEC5",
                "#B0BEC5",
                "#B0BEC5",
                "#B0BEC5",
                "#B0BEC5",
                "#B0BEC5",
                "#B0BEC5",
                "#B0BEC5",
                "#B0BEC5"
               ]
              ]
             }
            ],
            "label": "Topic 8",
            "method": "update"
           },
           {
            "args": [
             {
              "marker.color": [
               [
                "#B0BEC5",
                "#B0BEC5",
                "#B0BEC5",
                "#B0BEC5",
                "#B0BEC5",
                "#B0BEC5",
                "#B0BEC5",
                "#B0BEC5",
                "#B0BEC5",
                "red",
                "#B0BEC5",
                "#B0BEC5",
                "#B0BEC5",
                "#B0BEC5",
                "#B0BEC5",
                "#B0BEC5",
                "#B0BEC5",
                "#B0BEC5",
                "#B0BEC5",
                "#B0BEC5"
               ]
              ]
             }
            ],
            "label": "Topic 9",
            "method": "update"
           },
           {
            "args": [
             {
              "marker.color": [
               [
                "#B0BEC5",
                "#B0BEC5",
                "#B0BEC5",
                "#B0BEC5",
                "#B0BEC5",
                "#B0BEC5",
                "#B0BEC5",
                "#B0BEC5",
                "#B0BEC5",
                "#B0BEC5",
                "red",
                "#B0BEC5",
                "#B0BEC5",
                "#B0BEC5",
                "#B0BEC5",
                "#B0BEC5",
                "#B0BEC5",
                "#B0BEC5",
                "#B0BEC5",
                "#B0BEC5"
               ]
              ]
             }
            ],
            "label": "Topic 10",
            "method": "update"
           },
           {
            "args": [
             {
              "marker.color": [
               [
                "#B0BEC5",
                "#B0BEC5",
                "#B0BEC5",
                "#B0BEC5",
                "#B0BEC5",
                "#B0BEC5",
                "#B0BEC5",
                "#B0BEC5",
                "#B0BEC5",
                "#B0BEC5",
                "#B0BEC5",
                "red",
                "#B0BEC5",
                "#B0BEC5",
                "#B0BEC5",
                "#B0BEC5",
                "#B0BEC5",
                "#B0BEC5",
                "#B0BEC5",
                "#B0BEC5"
               ]
              ]
             }
            ],
            "label": "Topic 11",
            "method": "update"
           },
           {
            "args": [
             {
              "marker.color": [
               [
                "#B0BEC5",
                "#B0BEC5",
                "#B0BEC5",
                "#B0BEC5",
                "#B0BEC5",
                "#B0BEC5",
                "#B0BEC5",
                "#B0BEC5",
                "#B0BEC5",
                "#B0BEC5",
                "#B0BEC5",
                "#B0BEC5",
                "red",
                "#B0BEC5",
                "#B0BEC5",
                "#B0BEC5",
                "#B0BEC5",
                "#B0BEC5",
                "#B0BEC5",
                "#B0BEC5"
               ]
              ]
             }
            ],
            "label": "Topic 12",
            "method": "update"
           },
           {
            "args": [
             {
              "marker.color": [
               [
                "#B0BEC5",
                "#B0BEC5",
                "#B0BEC5",
                "#B0BEC5",
                "#B0BEC5",
                "#B0BEC5",
                "#B0BEC5",
                "#B0BEC5",
                "#B0BEC5",
                "#B0BEC5",
                "#B0BEC5",
                "#B0BEC5",
                "#B0BEC5",
                "red",
                "#B0BEC5",
                "#B0BEC5",
                "#B0BEC5",
                "#B0BEC5",
                "#B0BEC5",
                "#B0BEC5"
               ]
              ]
             }
            ],
            "label": "Topic 13",
            "method": "update"
           },
           {
            "args": [
             {
              "marker.color": [
               [
                "#B0BEC5",
                "#B0BEC5",
                "#B0BEC5",
                "#B0BEC5",
                "#B0BEC5",
                "#B0BEC5",
                "#B0BEC5",
                "#B0BEC5",
                "#B0BEC5",
                "#B0BEC5",
                "#B0BEC5",
                "#B0BEC5",
                "#B0BEC5",
                "#B0BEC5",
                "red",
                "#B0BEC5",
                "#B0BEC5",
                "#B0BEC5",
                "#B0BEC5",
                "#B0BEC5"
               ]
              ]
             }
            ],
            "label": "Topic 14",
            "method": "update"
           },
           {
            "args": [
             {
              "marker.color": [
               [
                "#B0BEC5",
                "#B0BEC5",
                "#B0BEC5",
                "#B0BEC5",
                "#B0BEC5",
                "#B0BEC5",
                "#B0BEC5",
                "#B0BEC5",
                "#B0BEC5",
                "#B0BEC5",
                "#B0BEC5",
                "#B0BEC5",
                "#B0BEC5",
                "#B0BEC5",
                "#B0BEC5",
                "red",
                "#B0BEC5",
                "#B0BEC5",
                "#B0BEC5",
                "#B0BEC5"
               ]
              ]
             }
            ],
            "label": "Topic 15",
            "method": "update"
           },
           {
            "args": [
             {
              "marker.color": [
               [
                "#B0BEC5",
                "#B0BEC5",
                "#B0BEC5",
                "#B0BEC5",
                "#B0BEC5",
                "#B0BEC5",
                "#B0BEC5",
                "#B0BEC5",
                "#B0BEC5",
                "#B0BEC5",
                "#B0BEC5",
                "#B0BEC5",
                "#B0BEC5",
                "#B0BEC5",
                "#B0BEC5",
                "#B0BEC5",
                "red",
                "#B0BEC5",
                "#B0BEC5",
                "#B0BEC5"
               ]
              ]
             }
            ],
            "label": "Topic 16",
            "method": "update"
           },
           {
            "args": [
             {
              "marker.color": [
               [
                "#B0BEC5",
                "#B0BEC5",
                "#B0BEC5",
                "#B0BEC5",
                "#B0BEC5",
                "#B0BEC5",
                "#B0BEC5",
                "#B0BEC5",
                "#B0BEC5",
                "#B0BEC5",
                "#B0BEC5",
                "#B0BEC5",
                "#B0BEC5",
                "#B0BEC5",
                "#B0BEC5",
                "#B0BEC5",
                "#B0BEC5",
                "red",
                "#B0BEC5",
                "#B0BEC5"
               ]
              ]
             }
            ],
            "label": "Topic 17",
            "method": "update"
           },
           {
            "args": [
             {
              "marker.color": [
               [
                "#B0BEC5",
                "#B0BEC5",
                "#B0BEC5",
                "#B0BEC5",
                "#B0BEC5",
                "#B0BEC5",
                "#B0BEC5",
                "#B0BEC5",
                "#B0BEC5",
                "#B0BEC5",
                "#B0BEC5",
                "#B0BEC5",
                "#B0BEC5",
                "#B0BEC5",
                "#B0BEC5",
                "#B0BEC5",
                "#B0BEC5",
                "#B0BEC5",
                "red",
                "#B0BEC5"
               ]
              ]
             }
            ],
            "label": "Topic 18",
            "method": "update"
           },
           {
            "args": [
             {
              "marker.color": [
               [
                "#B0BEC5",
                "#B0BEC5",
                "#B0BEC5",
                "#B0BEC5",
                "#B0BEC5",
                "#B0BEC5",
                "#B0BEC5",
                "#B0BEC5",
                "#B0BEC5",
                "#B0BEC5",
                "#B0BEC5",
                "#B0BEC5",
                "#B0BEC5",
                "#B0BEC5",
                "#B0BEC5",
                "#B0BEC5",
                "#B0BEC5",
                "#B0BEC5",
                "#B0BEC5",
                "red"
               ]
              ]
             }
            ],
            "label": "Topic 19",
            "method": "update"
           }
          ]
         }
        ],
        "template": {
         "data": {
          "bar": [
           {
            "error_x": {
             "color": "rgb(36,36,36)"
            },
            "error_y": {
             "color": "rgb(36,36,36)"
            },
            "marker": {
             "line": {
              "color": "white",
              "width": 0.5
             },
             "pattern": {
              "fillmode": "overlay",
              "size": 10,
              "solidity": 0.2
             }
            },
            "type": "bar"
           }
          ],
          "barpolar": [
           {
            "marker": {
             "line": {
              "color": "white",
              "width": 0.5
             },
             "pattern": {
              "fillmode": "overlay",
              "size": 10,
              "solidity": 0.2
             }
            },
            "type": "barpolar"
           }
          ],
          "carpet": [
           {
            "aaxis": {
             "endlinecolor": "rgb(36,36,36)",
             "gridcolor": "white",
             "linecolor": "white",
             "minorgridcolor": "white",
             "startlinecolor": "rgb(36,36,36)"
            },
            "baxis": {
             "endlinecolor": "rgb(36,36,36)",
             "gridcolor": "white",
             "linecolor": "white",
             "minorgridcolor": "white",
             "startlinecolor": "rgb(36,36,36)"
            },
            "type": "carpet"
           }
          ],
          "choropleth": [
           {
            "colorbar": {
             "outlinewidth": 1,
             "tickcolor": "rgb(36,36,36)",
             "ticks": "outside"
            },
            "type": "choropleth"
           }
          ],
          "contour": [
           {
            "colorbar": {
             "outlinewidth": 1,
             "tickcolor": "rgb(36,36,36)",
             "ticks": "outside"
            },
            "colorscale": [
             [
              0,
              "#440154"
             ],
             [
              0.1111111111111111,
              "#482878"
             ],
             [
              0.2222222222222222,
              "#3e4989"
             ],
             [
              0.3333333333333333,
              "#31688e"
             ],
             [
              0.4444444444444444,
              "#26828e"
             ],
             [
              0.5555555555555556,
              "#1f9e89"
             ],
             [
              0.6666666666666666,
              "#35b779"
             ],
             [
              0.7777777777777778,
              "#6ece58"
             ],
             [
              0.8888888888888888,
              "#b5de2b"
             ],
             [
              1,
              "#fde725"
             ]
            ],
            "type": "contour"
           }
          ],
          "contourcarpet": [
           {
            "colorbar": {
             "outlinewidth": 1,
             "tickcolor": "rgb(36,36,36)",
             "ticks": "outside"
            },
            "type": "contourcarpet"
           }
          ],
          "heatmap": [
           {
            "colorbar": {
             "outlinewidth": 1,
             "tickcolor": "rgb(36,36,36)",
             "ticks": "outside"
            },
            "colorscale": [
             [
              0,
              "#440154"
             ],
             [
              0.1111111111111111,
              "#482878"
             ],
             [
              0.2222222222222222,
              "#3e4989"
             ],
             [
              0.3333333333333333,
              "#31688e"
             ],
             [
              0.4444444444444444,
              "#26828e"
             ],
             [
              0.5555555555555556,
              "#1f9e89"
             ],
             [
              0.6666666666666666,
              "#35b779"
             ],
             [
              0.7777777777777778,
              "#6ece58"
             ],
             [
              0.8888888888888888,
              "#b5de2b"
             ],
             [
              1,
              "#fde725"
             ]
            ],
            "type": "heatmap"
           }
          ],
          "histogram": [
           {
            "marker": {
             "line": {
              "color": "white",
              "width": 0.6
             }
            },
            "type": "histogram"
           }
          ],
          "histogram2d": [
           {
            "colorbar": {
             "outlinewidth": 1,
             "tickcolor": "rgb(36,36,36)",
             "ticks": "outside"
            },
            "colorscale": [
             [
              0,
              "#440154"
             ],
             [
              0.1111111111111111,
              "#482878"
             ],
             [
              0.2222222222222222,
              "#3e4989"
             ],
             [
              0.3333333333333333,
              "#31688e"
             ],
             [
              0.4444444444444444,
              "#26828e"
             ],
             [
              0.5555555555555556,
              "#1f9e89"
             ],
             [
              0.6666666666666666,
              "#35b779"
             ],
             [
              0.7777777777777778,
              "#6ece58"
             ],
             [
              0.8888888888888888,
              "#b5de2b"
             ],
             [
              1,
              "#fde725"
             ]
            ],
            "type": "histogram2d"
           }
          ],
          "histogram2dcontour": [
           {
            "colorbar": {
             "outlinewidth": 1,
             "tickcolor": "rgb(36,36,36)",
             "ticks": "outside"
            },
            "colorscale": [
             [
              0,
              "#440154"
             ],
             [
              0.1111111111111111,
              "#482878"
             ],
             [
              0.2222222222222222,
              "#3e4989"
             ],
             [
              0.3333333333333333,
              "#31688e"
             ],
             [
              0.4444444444444444,
              "#26828e"
             ],
             [
              0.5555555555555556,
              "#1f9e89"
             ],
             [
              0.6666666666666666,
              "#35b779"
             ],
             [
              0.7777777777777778,
              "#6ece58"
             ],
             [
              0.8888888888888888,
              "#b5de2b"
             ],
             [
              1,
              "#fde725"
             ]
            ],
            "type": "histogram2dcontour"
           }
          ],
          "mesh3d": [
           {
            "colorbar": {
             "outlinewidth": 1,
             "tickcolor": "rgb(36,36,36)",
             "ticks": "outside"
            },
            "type": "mesh3d"
           }
          ],
          "parcoords": [
           {
            "line": {
             "colorbar": {
              "outlinewidth": 1,
              "tickcolor": "rgb(36,36,36)",
              "ticks": "outside"
             }
            },
            "type": "parcoords"
           }
          ],
          "pie": [
           {
            "automargin": true,
            "type": "pie"
           }
          ],
          "scatter": [
           {
            "fillpattern": {
             "fillmode": "overlay",
             "size": 10,
             "solidity": 0.2
            },
            "type": "scatter"
           }
          ],
          "scatter3d": [
           {
            "line": {
             "colorbar": {
              "outlinewidth": 1,
              "tickcolor": "rgb(36,36,36)",
              "ticks": "outside"
             }
            },
            "marker": {
             "colorbar": {
              "outlinewidth": 1,
              "tickcolor": "rgb(36,36,36)",
              "ticks": "outside"
             }
            },
            "type": "scatter3d"
           }
          ],
          "scattercarpet": [
           {
            "marker": {
             "colorbar": {
              "outlinewidth": 1,
              "tickcolor": "rgb(36,36,36)",
              "ticks": "outside"
             }
            },
            "type": "scattercarpet"
           }
          ],
          "scattergeo": [
           {
            "marker": {
             "colorbar": {
              "outlinewidth": 1,
              "tickcolor": "rgb(36,36,36)",
              "ticks": "outside"
             }
            },
            "type": "scattergeo"
           }
          ],
          "scattergl": [
           {
            "marker": {
             "colorbar": {
              "outlinewidth": 1,
              "tickcolor": "rgb(36,36,36)",
              "ticks": "outside"
             }
            },
            "type": "scattergl"
           }
          ],
          "scattermap": [
           {
            "marker": {
             "colorbar": {
              "outlinewidth": 1,
              "tickcolor": "rgb(36,36,36)",
              "ticks": "outside"
             }
            },
            "type": "scattermap"
           }
          ],
          "scattermapbox": [
           {
            "marker": {
             "colorbar": {
              "outlinewidth": 1,
              "tickcolor": "rgb(36,36,36)",
              "ticks": "outside"
             }
            },
            "type": "scattermapbox"
           }
          ],
          "scatterpolar": [
           {
            "marker": {
             "colorbar": {
              "outlinewidth": 1,
              "tickcolor": "rgb(36,36,36)",
              "ticks": "outside"
             }
            },
            "type": "scatterpolar"
           }
          ],
          "scatterpolargl": [
           {
            "marker": {
             "colorbar": {
              "outlinewidth": 1,
              "tickcolor": "rgb(36,36,36)",
              "ticks": "outside"
             }
            },
            "type": "scatterpolargl"
           }
          ],
          "scatterternary": [
           {
            "marker": {
             "colorbar": {
              "outlinewidth": 1,
              "tickcolor": "rgb(36,36,36)",
              "ticks": "outside"
             }
            },
            "type": "scatterternary"
           }
          ],
          "surface": [
           {
            "colorbar": {
             "outlinewidth": 1,
             "tickcolor": "rgb(36,36,36)",
             "ticks": "outside"
            },
            "colorscale": [
             [
              0,
              "#440154"
             ],
             [
              0.1111111111111111,
              "#482878"
             ],
             [
              0.2222222222222222,
              "#3e4989"
             ],
             [
              0.3333333333333333,
              "#31688e"
             ],
             [
              0.4444444444444444,
              "#26828e"
             ],
             [
              0.5555555555555556,
              "#1f9e89"
             ],
             [
              0.6666666666666666,
              "#35b779"
             ],
             [
              0.7777777777777778,
              "#6ece58"
             ],
             [
              0.8888888888888888,
              "#b5de2b"
             ],
             [
              1,
              "#fde725"
             ]
            ],
            "type": "surface"
           }
          ],
          "table": [
           {
            "cells": {
             "fill": {
              "color": "rgb(237,237,237)"
             },
             "line": {
              "color": "white"
             }
            },
            "header": {
             "fill": {
              "color": "rgb(217,217,217)"
             },
             "line": {
              "color": "white"
             }
            },
            "type": "table"
           }
          ]
         },
         "layout": {
          "annotationdefaults": {
           "arrowhead": 0,
           "arrowwidth": 1
          },
          "autotypenumbers": "strict",
          "coloraxis": {
           "colorbar": {
            "outlinewidth": 1,
            "tickcolor": "rgb(36,36,36)",
            "ticks": "outside"
           }
          },
          "colorscale": {
           "diverging": [
            [
             0,
             "rgb(103,0,31)"
            ],
            [
             0.1,
             "rgb(178,24,43)"
            ],
            [
             0.2,
             "rgb(214,96,77)"
            ],
            [
             0.3,
             "rgb(244,165,130)"
            ],
            [
             0.4,
             "rgb(253,219,199)"
            ],
            [
             0.5,
             "rgb(247,247,247)"
            ],
            [
             0.6,
             "rgb(209,229,240)"
            ],
            [
             0.7,
             "rgb(146,197,222)"
            ],
            [
             0.8,
             "rgb(67,147,195)"
            ],
            [
             0.9,
             "rgb(33,102,172)"
            ],
            [
             1,
             "rgb(5,48,97)"
            ]
           ],
           "sequential": [
            [
             0,
             "#440154"
            ],
            [
             0.1111111111111111,
             "#482878"
            ],
            [
             0.2222222222222222,
             "#3e4989"
            ],
            [
             0.3333333333333333,
             "#31688e"
            ],
            [
             0.4444444444444444,
             "#26828e"
            ],
            [
             0.5555555555555556,
             "#1f9e89"
            ],
            [
             0.6666666666666666,
             "#35b779"
            ],
            [
             0.7777777777777778,
             "#6ece58"
            ],
            [
             0.8888888888888888,
             "#b5de2b"
            ],
            [
             1,
             "#fde725"
            ]
           ],
           "sequentialminus": [
            [
             0,
             "#440154"
            ],
            [
             0.1111111111111111,
             "#482878"
            ],
            [
             0.2222222222222222,
             "#3e4989"
            ],
            [
             0.3333333333333333,
             "#31688e"
            ],
            [
             0.4444444444444444,
             "#26828e"
            ],
            [
             0.5555555555555556,
             "#1f9e89"
            ],
            [
             0.6666666666666666,
             "#35b779"
            ],
            [
             0.7777777777777778,
             "#6ece58"
            ],
            [
             0.8888888888888888,
             "#b5de2b"
            ],
            [
             1,
             "#fde725"
            ]
           ]
          },
          "colorway": [
           "#1F77B4",
           "#FF7F0E",
           "#2CA02C",
           "#D62728",
           "#9467BD",
           "#8C564B",
           "#E377C2",
           "#7F7F7F",
           "#BCBD22",
           "#17BECF"
          ],
          "font": {
           "color": "rgb(36,36,36)"
          },
          "geo": {
           "bgcolor": "white",
           "lakecolor": "white",
           "landcolor": "white",
           "showlakes": true,
           "showland": true,
           "subunitcolor": "white"
          },
          "hoverlabel": {
           "align": "left"
          },
          "hovermode": "closest",
          "mapbox": {
           "style": "light"
          },
          "paper_bgcolor": "white",
          "plot_bgcolor": "white",
          "polar": {
           "angularaxis": {
            "gridcolor": "rgb(232,232,232)",
            "linecolor": "rgb(36,36,36)",
            "showgrid": false,
            "showline": true,
            "ticks": "outside"
           },
           "bgcolor": "white",
           "radialaxis": {
            "gridcolor": "rgb(232,232,232)",
            "linecolor": "rgb(36,36,36)",
            "showgrid": false,
            "showline": true,
            "ticks": "outside"
           }
          },
          "scene": {
           "xaxis": {
            "backgroundcolor": "white",
            "gridcolor": "rgb(232,232,232)",
            "gridwidth": 2,
            "linecolor": "rgb(36,36,36)",
            "showbackground": true,
            "showgrid": false,
            "showline": true,
            "ticks": "outside",
            "zeroline": false,
            "zerolinecolor": "rgb(36,36,36)"
           },
           "yaxis": {
            "backgroundcolor": "white",
            "gridcolor": "rgb(232,232,232)",
            "gridwidth": 2,
            "linecolor": "rgb(36,36,36)",
            "showbackground": true,
            "showgrid": false,
            "showline": true,
            "ticks": "outside",
            "zeroline": false,
            "zerolinecolor": "rgb(36,36,36)"
           },
           "zaxis": {
            "backgroundcolor": "white",
            "gridcolor": "rgb(232,232,232)",
            "gridwidth": 2,
            "linecolor": "rgb(36,36,36)",
            "showbackground": true,
            "showgrid": false,
            "showline": true,
            "ticks": "outside",
            "zeroline": false,
            "zerolinecolor": "rgb(36,36,36)"
           }
          },
          "shapedefaults": {
           "fillcolor": "black",
           "line": {
            "width": 0
           },
           "opacity": 0.3
          },
          "ternary": {
           "aaxis": {
            "gridcolor": "rgb(232,232,232)",
            "linecolor": "rgb(36,36,36)",
            "showgrid": false,
            "showline": true,
            "ticks": "outside"
           },
           "baxis": {
            "gridcolor": "rgb(232,232,232)",
            "linecolor": "rgb(36,36,36)",
            "showgrid": false,
            "showline": true,
            "ticks": "outside"
           },
           "bgcolor": "white",
           "caxis": {
            "gridcolor": "rgb(232,232,232)",
            "linecolor": "rgb(36,36,36)",
            "showgrid": false,
            "showline": true,
            "ticks": "outside"
           }
          },
          "title": {
           "x": 0.05
          },
          "xaxis": {
           "automargin": true,
           "gridcolor": "rgb(232,232,232)",
           "linecolor": "rgb(36,36,36)",
           "showgrid": false,
           "showline": true,
           "ticks": "outside",
           "title": {
            "standoff": 15
           },
           "zeroline": false,
           "zerolinecolor": "rgb(36,36,36)"
          },
          "yaxis": {
           "automargin": true,
           "gridcolor": "rgb(232,232,232)",
           "linecolor": "rgb(36,36,36)",
           "showgrid": false,
           "showline": true,
           "ticks": "outside",
           "title": {
            "standoff": 15
           },
           "zeroline": false,
           "zerolinecolor": "rgb(36,36,36)"
          }
         }
        },
        "title": {
         "font": {
          "color": "Black",
          "size": 22
         },
         "text": "Topic Mapping (Top 20 Topics)",
         "x": 0.5,
         "xanchor": "center",
         "y": 0.95,
         "yanchor": "top"
        },
        "width": 650,
        "xaxis": {
         "anchor": "y",
         "domain": [
          0,
          1
         ],
         "range": [
          -25.881703186035157,
          5.14748260974884
         ],
         "title": {
          "text": ""
         },
         "visible": false
        },
        "yaxis": {
         "anchor": "x",
         "domain": [
          0,
          1
         ],
         "range": [
          -19.550508880615233,
          23.261961650848388
         ],
         "title": {
          "text": ""
         },
         "visible": false
        }
       }
      }
     },
     "metadata": {},
     "output_type": "display_data"
    }
   ],
   "source": [
    "fig = topic_model.visualize_topics(custom_labels=True, title=\"Topic Mapping (Top 20 Topics)\", top_n_topics=20) \n",
    "fig"
   ]
  },
  {
   "cell_type": "code",
   "execution_count": 48,
   "id": "5eb60fa1",
   "metadata": {},
   "outputs": [
    {
     "data": {
      "application/vnd.plotly.v1+json": {
       "config": {
        "plotlyServerURL": "https://plot.ly"
       },
       "data": [
        {
         "marker": {
          "color": "#D55E00"
         },
         "orientation": "h",
         "type": "bar",
         "x": [
          0.33352822065353394,
          0.33702871203422546,
          0.36584925651550293,
          0.38406988978385925,
          0.44501200318336487
         ],
         "xaxis": "x",
         "y": [
          "styles  ",
          "framework  ",
          "react  ",
          "fxa  ",
          "jsx  "
         ],
         "yaxis": "y"
        },
        {
         "marker": {
          "color": "#0072B2"
         },
         "orientation": "h",
         "type": "bar",
         "x": [
          0.30125436186790466,
          0.30940496921539307,
          0.34058597683906555,
          0.36500298976898193,
          0.3652241826057434
         ],
         "xaxis": "x2",
         "y": [
          "records  ",
          "stored  ",
          "metadata  ",
          "storage  ",
          "storing  "
         ],
         "yaxis": "y2"
        },
        {
         "marker": {
          "color": "#CC79A7"
         },
         "orientation": "h",
         "type": "bar",
         "x": [
          0.31181344389915466,
          0.3172096014022827,
          0.31781265139579773,
          0.45095735788345337,
          0.5247461795806885
         ],
         "xaxis": "x3",
         "y": [
          "pod  ",
          "pods  ",
          "deployment  ",
          "kubernetes  ",
          "docker  "
         ],
         "yaxis": "y3"
        },
        {
         "marker": {
          "color": "#E69F00"
         },
         "orientation": "h",
         "type": "bar",
         "x": [
          0.3605053722858429,
          0.40190085768699646,
          0.4104195535182953,
          0.41892901062965393,
          0.5409442186355591
         ],
         "xaxis": "x4",
         "y": [
          "listeners  ",
          "mailqueue  ",
          "listener  ",
          "queue  ",
          "rabbitmq  "
         ],
         "yaxis": "y4"
        },
        {
         "marker": {
          "color": "#56B4E9"
         },
         "orientation": "h",
         "type": "bar",
         "x": [
          0.268464058637619,
          0.2792794108390808,
          0.33508941531181335,
          0.3636515140533447,
          0.425572007894516
         ],
         "xaxis": "x5",
         "y": [
          "witness  ",
          "validators  ",
          "evidence  ",
          "consensus  ",
          "tendermint  "
         ],
         "yaxis": "y5"
        },
        {
         "marker": {
          "color": "#009E73"
         },
         "orientation": "h",
         "type": "bar",
         "x": [
          0.35879722237586975,
          0.37988990545272827,
          0.4578186869621277,
          0.4798733592033386,
          0.4839244782924652
         ],
         "xaxis": "x6",
         "y": [
          "documentation  ",
          "openapi  ",
          "api  ",
          "swagger  ",
          "apis  "
         ],
         "yaxis": "y6"
        },
        {
         "marker": {
          "color": "#F0E442"
         },
         "orientation": "h",
         "type": "bar",
         "x": [
          0.4591293931007385,
          0.4625435769557953,
          0.47199496626853943,
          0.5159644484519958,
          0.5167005658149719
         ],
         "xaxis": "x7",
         "y": [
          "release  ",
          "branch  ",
          "branching  ",
          "releases  ",
          "branches  "
         ],
         "yaxis": "y7"
        },
        {
         "marker": {
          "color": "#D55E00"
         },
         "orientation": "h",
         "type": "bar",
         "x": [
          0.49498748779296875,
          0.5130159258842468,
          0.5298324227333069,
          0.5409736037254333,
          0.5566740036010742
         ],
         "xaxis": "x8",
         "y": [
          "auth0  ",
          "authenticate  ",
          "authentication  ",
          "oauth  ",
          "oauth2  "
         ],
         "yaxis": "y8"
        },
        {
         "marker": {
          "color": "#0072B2"
         },
         "orientation": "h",
         "type": "bar",
         "x": [
          0.3329988420009613,
          0.36479780077934265,
          0.37903252243995667,
          0.38020145893096924,
          0.414483904838562
         ],
         "xaxis": "x9",
         "y": [
          "py  ",
          "wsgi  ",
          "flask  ",
          "django  ",
          "python  "
         ],
         "yaxis": "y9"
        },
        {
         "marker": {
          "color": "#CC79A7"
         },
         "orientation": "h",
         "type": "bar",
         "x": [
          0.2675429582595825,
          0.2737065851688385,
          0.3077293634414673,
          0.385519415140152,
          0.5037376880645752
         ],
         "xaxis": "x10",
         "y": [
          "serialization  ",
          "compatibility  ",
          "protobuf  ",
          "sdk  ",
          "cosmos  "
         ],
         "yaxis": "y10"
        },
        {
         "marker": {
          "color": "#E69F00"
         },
         "orientation": "h",
         "type": "bar",
         "x": [
          0.24571077525615692,
          0.2475389987230301,
          0.24873299896717072,
          0.24958640336990356,
          0.3428485691547394
         ],
         "xaxis": "x11",
         "y": [
          "elektra  ",
          "exceptions  ",
          "variants  ",
          "specification  ",
          "plugins  "
         ],
         "yaxis": "y11"
        },
        {
         "marker": {
          "color": "#56B4E9"
         },
         "orientation": "h",
         "type": "bar",
         "x": [
          0.40755942463874817,
          0.40775012969970703,
          0.4475163221359253,
          0.46331432461738586,
          0.5167405009269714
         ],
         "xaxis": "x12",
         "y": [
          "mocks  ",
          "testharness  ",
          "tests  ",
          "testing  ",
          "testcontainers  "
         ],
         "yaxis": "y12"
        },
        {
         "marker": {
          "color": "#009E73"
         },
         "orientation": "h",
         "type": "bar",
         "x": [
          0.31902092695236206,
          0.31958702206611633,
          0.32632070779800415,
          0.3282780051231384,
          0.37621527910232544
         ],
         "xaxis": "x13",
         "y": [
          "webjar  ",
          "hmrc  ",
          "webjars  ",
          "frontend  ",
          "hmpps  "
         ],
         "yaxis": "y13"
        },
        {
         "marker": {
          "color": "#F0E442"
         },
         "orientation": "h",
         "type": "bar",
         "x": [
          0.3402020037174225,
          0.34669896960258484,
          0.3785534203052521,
          0.46319735050201416,
          0.6897475719451904
         ],
         "xaxis": "x14",
         "y": [
          "aws  ",
          "cloud  ",
          "provisioning  ",
          "cloudformation  ",
          "terraform  "
         ],
         "yaxis": "y14"
        },
        {
         "marker": {
          "color": "#D55E00"
         },
         "orientation": "h",
         "type": "bar",
         "x": [
          0.3139156103134155,
          0.3187868893146515,
          0.3370732069015503,
          0.4446304142475128,
          0.4899037778377533
         ],
         "xaxis": "x15",
         "y": [
          "vault  ",
          "encryption  ",
          "encrypt  ",
          "secrets  ",
          "kubernetes  "
         ],
         "yaxis": "y15"
        },
        {
         "marker": {
          "color": "#0072B2"
         },
         "orientation": "h",
         "type": "bar",
         "x": [
          0.3306661546230316,
          0.330739289522171,
          0.3437277674674988,
          0.44485676288604736,
          0.4570741057395935
         ],
         "xaxis": "x16",
         "y": [
          "jest  ",
          "tested  ",
          "test  ",
          "tests  ",
          "testing  "
         ],
         "yaxis": "y16"
        },
        {
         "marker": {
          "color": "#CC79A7"
         },
         "orientation": "h",
         "type": "bar",
         "x": [
          0.3757833242416382,
          0.4086800813674927,
          0.41700243949890137,
          0.4643368422985077,
          0.5366702675819397
         ],
         "xaxis": "x17",
         "y": [
          "metric  ",
          "metrics  ",
          "cloudwatch  ",
          "monitoring  ",
          "prometheus  "
         ],
         "yaxis": "y17"
        },
        {
         "marker": {
          "color": "#E69F00"
         },
         "orientation": "h",
         "type": "bar",
         "x": [
          0.49481889605522156,
          0.5260316133499146,
          0.5302551984786987,
          0.5530237555503845,
          0.5770351886749268
         ],
         "xaxis": "x18",
         "y": [
          "mediawiki  ",
          "wikibase  ",
          "wikibaserepo  ",
          "wikibaselexeme  ",
          "wikibaseclient  "
         ],
         "yaxis": "y18"
        },
        {
         "marker": {
          "color": "#56B4E9"
         },
         "orientation": "h",
         "type": "bar",
         "x": [
          0.3892318904399872,
          0.42614081501960754,
          0.4401286542415619,
          0.544303297996521,
          0.6515806317329407
         ],
         "xaxis": "x19",
         "y": [
          "indexed  ",
          "searching  ",
          "searches  ",
          "lucene  ",
          "elasticsearch  "
         ],
         "yaxis": "y19"
        },
        {
         "marker": {
          "color": "#009E73"
         },
         "orientation": "h",
         "type": "bar",
         "x": [
          0.29598480463027954,
          0.2983051836490631,
          0.30517682433128357,
          0.3890339732170105,
          0.4642797112464905
         ],
         "xaxis": "x20",
         "y": [
          "licenses  ",
          "java  ",
          "epl  ",
          "xml  ",
          "eclipse  "
         ],
         "yaxis": "y20"
        }
       ],
       "layout": {
        "annotations": [
         {
          "font": {
           "size": 16
          },
          "showarrow": false,
          "text": "Topic 0",
          "x": 0.0875,
          "xanchor": "center",
          "xref": "paper",
          "y": 0.9999999999999999,
          "yanchor": "bottom",
          "yref": "paper"
         },
         {
          "font": {
           "size": 16
          },
          "showarrow": false,
          "text": "Topic 1",
          "x": 0.36250000000000004,
          "xanchor": "center",
          "xref": "paper",
          "y": 0.9999999999999999,
          "yanchor": "bottom",
          "yref": "paper"
         },
         {
          "font": {
           "size": 16
          },
          "showarrow": false,
          "text": "Topic 2",
          "x": 0.6375000000000001,
          "xanchor": "center",
          "xref": "paper",
          "y": 0.9999999999999999,
          "yanchor": "bottom",
          "yref": "paper"
         },
         {
          "font": {
           "size": 16
          },
          "showarrow": false,
          "text": "Topic 3",
          "x": 0.9125,
          "xanchor": "center",
          "xref": "paper",
          "y": 0.9999999999999999,
          "yanchor": "bottom",
          "yref": "paper"
         },
         {
          "font": {
           "size": 16
          },
          "showarrow": false,
          "text": "Topic 4",
          "x": 0.0875,
          "xanchor": "center",
          "xref": "paper",
          "y": 0.7839999999999999,
          "yanchor": "bottom",
          "yref": "paper"
         },
         {
          "font": {
           "size": 16
          },
          "showarrow": false,
          "text": "Topic 5",
          "x": 0.36250000000000004,
          "xanchor": "center",
          "xref": "paper",
          "y": 0.7839999999999999,
          "yanchor": "bottom",
          "yref": "paper"
         },
         {
          "font": {
           "size": 16
          },
          "showarrow": false,
          "text": "Topic 6",
          "x": 0.6375000000000001,
          "xanchor": "center",
          "xref": "paper",
          "y": 0.7839999999999999,
          "yanchor": "bottom",
          "yref": "paper"
         },
         {
          "font": {
           "size": 16
          },
          "showarrow": false,
          "text": "Topic 7",
          "x": 0.9125,
          "xanchor": "center",
          "xref": "paper",
          "y": 0.7839999999999999,
          "yanchor": "bottom",
          "yref": "paper"
         },
         {
          "font": {
           "size": 16
          },
          "showarrow": false,
          "text": "Topic 8",
          "x": 0.0875,
          "xanchor": "center",
          "xref": "paper",
          "y": 0.568,
          "yanchor": "bottom",
          "yref": "paper"
         },
         {
          "font": {
           "size": 16
          },
          "showarrow": false,
          "text": "Topic 9",
          "x": 0.36250000000000004,
          "xanchor": "center",
          "xref": "paper",
          "y": 0.568,
          "yanchor": "bottom",
          "yref": "paper"
         },
         {
          "font": {
           "size": 16
          },
          "showarrow": false,
          "text": "Topic 10",
          "x": 0.6375000000000001,
          "xanchor": "center",
          "xref": "paper",
          "y": 0.568,
          "yanchor": "bottom",
          "yref": "paper"
         },
         {
          "font": {
           "size": 16
          },
          "showarrow": false,
          "text": "Topic 11",
          "x": 0.9125,
          "xanchor": "center",
          "xref": "paper",
          "y": 0.568,
          "yanchor": "bottom",
          "yref": "paper"
         },
         {
          "font": {
           "size": 16
          },
          "showarrow": false,
          "text": "Topic 12",
          "x": 0.0875,
          "xanchor": "center",
          "xref": "paper",
          "y": 0.352,
          "yanchor": "bottom",
          "yref": "paper"
         },
         {
          "font": {
           "size": 16
          },
          "showarrow": false,
          "text": "Topic 13",
          "x": 0.36250000000000004,
          "xanchor": "center",
          "xref": "paper",
          "y": 0.352,
          "yanchor": "bottom",
          "yref": "paper"
         },
         {
          "font": {
           "size": 16
          },
          "showarrow": false,
          "text": "Topic 14",
          "x": 0.6375000000000001,
          "xanchor": "center",
          "xref": "paper",
          "y": 0.352,
          "yanchor": "bottom",
          "yref": "paper"
         },
         {
          "font": {
           "size": 16
          },
          "showarrow": false,
          "text": "Topic 15",
          "x": 0.9125,
          "xanchor": "center",
          "xref": "paper",
          "y": 0.352,
          "yanchor": "bottom",
          "yref": "paper"
         },
         {
          "font": {
           "size": 16
          },
          "showarrow": false,
          "text": "Topic 16",
          "x": 0.0875,
          "xanchor": "center",
          "xref": "paper",
          "y": 0.13599999999999998,
          "yanchor": "bottom",
          "yref": "paper"
         },
         {
          "font": {
           "size": 16
          },
          "showarrow": false,
          "text": "Topic 17",
          "x": 0.36250000000000004,
          "xanchor": "center",
          "xref": "paper",
          "y": 0.13599999999999998,
          "yanchor": "bottom",
          "yref": "paper"
         },
         {
          "font": {
           "size": 16
          },
          "showarrow": false,
          "text": "Topic 18",
          "x": 0.6375000000000001,
          "xanchor": "center",
          "xref": "paper",
          "y": 0.13599999999999998,
          "yanchor": "bottom",
          "yref": "paper"
         },
         {
          "font": {
           "size": 16
          },
          "showarrow": false,
          "text": "Topic 19",
          "x": 0.9125,
          "xanchor": "center",
          "xref": "paper",
          "y": 0.13599999999999998,
          "yanchor": "bottom",
          "yref": "paper"
         }
        ],
        "height": 1250,
        "hoverlabel": {
         "bgcolor": "white",
         "font": {
          "family": "Rockwell",
          "size": 16
         }
        },
        "showlegend": false,
        "template": {
         "data": {
          "bar": [
           {
            "error_x": {
             "color": "#2a3f5f"
            },
            "error_y": {
             "color": "#2a3f5f"
            },
            "marker": {
             "line": {
              "color": "white",
              "width": 0.5
             },
             "pattern": {
              "fillmode": "overlay",
              "size": 10,
              "solidity": 0.2
             }
            },
            "type": "bar"
           }
          ],
          "barpolar": [
           {
            "marker": {
             "line": {
              "color": "white",
              "width": 0.5
             },
             "pattern": {
              "fillmode": "overlay",
              "size": 10,
              "solidity": 0.2
             }
            },
            "type": "barpolar"
           }
          ],
          "carpet": [
           {
            "aaxis": {
             "endlinecolor": "#2a3f5f",
             "gridcolor": "#C8D4E3",
             "linecolor": "#C8D4E3",
             "minorgridcolor": "#C8D4E3",
             "startlinecolor": "#2a3f5f"
            },
            "baxis": {
             "endlinecolor": "#2a3f5f",
             "gridcolor": "#C8D4E3",
             "linecolor": "#C8D4E3",
             "minorgridcolor": "#C8D4E3",
             "startlinecolor": "#2a3f5f"
            },
            "type": "carpet"
           }
          ],
          "choropleth": [
           {
            "colorbar": {
             "outlinewidth": 0,
             "ticks": ""
            },
            "type": "choropleth"
           }
          ],
          "contour": [
           {
            "colorbar": {
             "outlinewidth": 0,
             "ticks": ""
            },
            "colorscale": [
             [
              0,
              "#0d0887"
             ],
             [
              0.1111111111111111,
              "#46039f"
             ],
             [
              0.2222222222222222,
              "#7201a8"
             ],
             [
              0.3333333333333333,
              "#9c179e"
             ],
             [
              0.4444444444444444,
              "#bd3786"
             ],
             [
              0.5555555555555556,
              "#d8576b"
             ],
             [
              0.6666666666666666,
              "#ed7953"
             ],
             [
              0.7777777777777778,
              "#fb9f3a"
             ],
             [
              0.8888888888888888,
              "#fdca26"
             ],
             [
              1,
              "#f0f921"
             ]
            ],
            "type": "contour"
           }
          ],
          "contourcarpet": [
           {
            "colorbar": {
             "outlinewidth": 0,
             "ticks": ""
            },
            "type": "contourcarpet"
           }
          ],
          "heatmap": [
           {
            "colorbar": {
             "outlinewidth": 0,
             "ticks": ""
            },
            "colorscale": [
             [
              0,
              "#0d0887"
             ],
             [
              0.1111111111111111,
              "#46039f"
             ],
             [
              0.2222222222222222,
              "#7201a8"
             ],
             [
              0.3333333333333333,
              "#9c179e"
             ],
             [
              0.4444444444444444,
              "#bd3786"
             ],
             [
              0.5555555555555556,
              "#d8576b"
             ],
             [
              0.6666666666666666,
              "#ed7953"
             ],
             [
              0.7777777777777778,
              "#fb9f3a"
             ],
             [
              0.8888888888888888,
              "#fdca26"
             ],
             [
              1,
              "#f0f921"
             ]
            ],
            "type": "heatmap"
           }
          ],
          "histogram": [
           {
            "marker": {
             "pattern": {
              "fillmode": "overlay",
              "size": 10,
              "solidity": 0.2
             }
            },
            "type": "histogram"
           }
          ],
          "histogram2d": [
           {
            "colorbar": {
             "outlinewidth": 0,
             "ticks": ""
            },
            "colorscale": [
             [
              0,
              "#0d0887"
             ],
             [
              0.1111111111111111,
              "#46039f"
             ],
             [
              0.2222222222222222,
              "#7201a8"
             ],
             [
              0.3333333333333333,
              "#9c179e"
             ],
             [
              0.4444444444444444,
              "#bd3786"
             ],
             [
              0.5555555555555556,
              "#d8576b"
             ],
             [
              0.6666666666666666,
              "#ed7953"
             ],
             [
              0.7777777777777778,
              "#fb9f3a"
             ],
             [
              0.8888888888888888,
              "#fdca26"
             ],
             [
              1,
              "#f0f921"
             ]
            ],
            "type": "histogram2d"
           }
          ],
          "histogram2dcontour": [
           {
            "colorbar": {
             "outlinewidth": 0,
             "ticks": ""
            },
            "colorscale": [
             [
              0,
              "#0d0887"
             ],
             [
              0.1111111111111111,
              "#46039f"
             ],
             [
              0.2222222222222222,
              "#7201a8"
             ],
             [
              0.3333333333333333,
              "#9c179e"
             ],
             [
              0.4444444444444444,
              "#bd3786"
             ],
             [
              0.5555555555555556,
              "#d8576b"
             ],
             [
              0.6666666666666666,
              "#ed7953"
             ],
             [
              0.7777777777777778,
              "#fb9f3a"
             ],
             [
              0.8888888888888888,
              "#fdca26"
             ],
             [
              1,
              "#f0f921"
             ]
            ],
            "type": "histogram2dcontour"
           }
          ],
          "mesh3d": [
           {
            "colorbar": {
             "outlinewidth": 0,
             "ticks": ""
            },
            "type": "mesh3d"
           }
          ],
          "parcoords": [
           {
            "line": {
             "colorbar": {
              "outlinewidth": 0,
              "ticks": ""
             }
            },
            "type": "parcoords"
           }
          ],
          "pie": [
           {
            "automargin": true,
            "type": "pie"
           }
          ],
          "scatter": [
           {
            "fillpattern": {
             "fillmode": "overlay",
             "size": 10,
             "solidity": 0.2
            },
            "type": "scatter"
           }
          ],
          "scatter3d": [
           {
            "line": {
             "colorbar": {
              "outlinewidth": 0,
              "ticks": ""
             }
            },
            "marker": {
             "colorbar": {
              "outlinewidth": 0,
              "ticks": ""
             }
            },
            "type": "scatter3d"
           }
          ],
          "scattercarpet": [
           {
            "marker": {
             "colorbar": {
              "outlinewidth": 0,
              "ticks": ""
             }
            },
            "type": "scattercarpet"
           }
          ],
          "scattergeo": [
           {
            "marker": {
             "colorbar": {
              "outlinewidth": 0,
              "ticks": ""
             }
            },
            "type": "scattergeo"
           }
          ],
          "scattergl": [
           {
            "marker": {
             "colorbar": {
              "outlinewidth": 0,
              "ticks": ""
             }
            },
            "type": "scattergl"
           }
          ],
          "scattermap": [
           {
            "marker": {
             "colorbar": {
              "outlinewidth": 0,
              "ticks": ""
             }
            },
            "type": "scattermap"
           }
          ],
          "scattermapbox": [
           {
            "marker": {
             "colorbar": {
              "outlinewidth": 0,
              "ticks": ""
             }
            },
            "type": "scattermapbox"
           }
          ],
          "scatterpolar": [
           {
            "marker": {
             "colorbar": {
              "outlinewidth": 0,
              "ticks": ""
             }
            },
            "type": "scatterpolar"
           }
          ],
          "scatterpolargl": [
           {
            "marker": {
             "colorbar": {
              "outlinewidth": 0,
              "ticks": ""
             }
            },
            "type": "scatterpolargl"
           }
          ],
          "scatterternary": [
           {
            "marker": {
             "colorbar": {
              "outlinewidth": 0,
              "ticks": ""
             }
            },
            "type": "scatterternary"
           }
          ],
          "surface": [
           {
            "colorbar": {
             "outlinewidth": 0,
             "ticks": ""
            },
            "colorscale": [
             [
              0,
              "#0d0887"
             ],
             [
              0.1111111111111111,
              "#46039f"
             ],
             [
              0.2222222222222222,
              "#7201a8"
             ],
             [
              0.3333333333333333,
              "#9c179e"
             ],
             [
              0.4444444444444444,
              "#bd3786"
             ],
             [
              0.5555555555555556,
              "#d8576b"
             ],
             [
              0.6666666666666666,
              "#ed7953"
             ],
             [
              0.7777777777777778,
              "#fb9f3a"
             ],
             [
              0.8888888888888888,
              "#fdca26"
             ],
             [
              1,
              "#f0f921"
             ]
            ],
            "type": "surface"
           }
          ],
          "table": [
           {
            "cells": {
             "fill": {
              "color": "#EBF0F8"
             },
             "line": {
              "color": "white"
             }
            },
            "header": {
             "fill": {
              "color": "#C8D4E3"
             },
             "line": {
              "color": "white"
             }
            },
            "type": "table"
           }
          ]
         },
         "layout": {
          "annotationdefaults": {
           "arrowcolor": "#2a3f5f",
           "arrowhead": 0,
           "arrowwidth": 1
          },
          "autotypenumbers": "strict",
          "coloraxis": {
           "colorbar": {
            "outlinewidth": 0,
            "ticks": ""
           }
          },
          "colorscale": {
           "diverging": [
            [
             0,
             "#8e0152"
            ],
            [
             0.1,
             "#c51b7d"
            ],
            [
             0.2,
             "#de77ae"
            ],
            [
             0.3,
             "#f1b6da"
            ],
            [
             0.4,
             "#fde0ef"
            ],
            [
             0.5,
             "#f7f7f7"
            ],
            [
             0.6,
             "#e6f5d0"
            ],
            [
             0.7,
             "#b8e186"
            ],
            [
             0.8,
             "#7fbc41"
            ],
            [
             0.9,
             "#4d9221"
            ],
            [
             1,
             "#276419"
            ]
           ],
           "sequential": [
            [
             0,
             "#0d0887"
            ],
            [
             0.1111111111111111,
             "#46039f"
            ],
            [
             0.2222222222222222,
             "#7201a8"
            ],
            [
             0.3333333333333333,
             "#9c179e"
            ],
            [
             0.4444444444444444,
             "#bd3786"
            ],
            [
             0.5555555555555556,
             "#d8576b"
            ],
            [
             0.6666666666666666,
             "#ed7953"
            ],
            [
             0.7777777777777778,
             "#fb9f3a"
            ],
            [
             0.8888888888888888,
             "#fdca26"
            ],
            [
             1,
             "#f0f921"
            ]
           ],
           "sequentialminus": [
            [
             0,
             "#0d0887"
            ],
            [
             0.1111111111111111,
             "#46039f"
            ],
            [
             0.2222222222222222,
             "#7201a8"
            ],
            [
             0.3333333333333333,
             "#9c179e"
            ],
            [
             0.4444444444444444,
             "#bd3786"
            ],
            [
             0.5555555555555556,
             "#d8576b"
            ],
            [
             0.6666666666666666,
             "#ed7953"
            ],
            [
             0.7777777777777778,
             "#fb9f3a"
            ],
            [
             0.8888888888888888,
             "#fdca26"
            ],
            [
             1,
             "#f0f921"
            ]
           ]
          },
          "colorway": [
           "#636efa",
           "#EF553B",
           "#00cc96",
           "#ab63fa",
           "#FFA15A",
           "#19d3f3",
           "#FF6692",
           "#B6E880",
           "#FF97FF",
           "#FECB52"
          ],
          "font": {
           "color": "#2a3f5f"
          },
          "geo": {
           "bgcolor": "white",
           "lakecolor": "white",
           "landcolor": "white",
           "showlakes": true,
           "showland": true,
           "subunitcolor": "#C8D4E3"
          },
          "hoverlabel": {
           "align": "left"
          },
          "hovermode": "closest",
          "mapbox": {
           "style": "light"
          },
          "paper_bgcolor": "white",
          "plot_bgcolor": "white",
          "polar": {
           "angularaxis": {
            "gridcolor": "#EBF0F8",
            "linecolor": "#EBF0F8",
            "ticks": ""
           },
           "bgcolor": "white",
           "radialaxis": {
            "gridcolor": "#EBF0F8",
            "linecolor": "#EBF0F8",
            "ticks": ""
           }
          },
          "scene": {
           "xaxis": {
            "backgroundcolor": "white",
            "gridcolor": "#DFE8F3",
            "gridwidth": 2,
            "linecolor": "#EBF0F8",
            "showbackground": true,
            "ticks": "",
            "zerolinecolor": "#EBF0F8"
           },
           "yaxis": {
            "backgroundcolor": "white",
            "gridcolor": "#DFE8F3",
            "gridwidth": 2,
            "linecolor": "#EBF0F8",
            "showbackground": true,
            "ticks": "",
            "zerolinecolor": "#EBF0F8"
           },
           "zaxis": {
            "backgroundcolor": "white",
            "gridcolor": "#DFE8F3",
            "gridwidth": 2,
            "linecolor": "#EBF0F8",
            "showbackground": true,
            "ticks": "",
            "zerolinecolor": "#EBF0F8"
           }
          },
          "shapedefaults": {
           "line": {
            "color": "#2a3f5f"
           }
          },
          "ternary": {
           "aaxis": {
            "gridcolor": "#DFE8F3",
            "linecolor": "#A2B1C6",
            "ticks": ""
           },
           "baxis": {
            "gridcolor": "#DFE8F3",
            "linecolor": "#A2B1C6",
            "ticks": ""
           },
           "bgcolor": "white",
           "caxis": {
            "gridcolor": "#DFE8F3",
            "linecolor": "#A2B1C6",
            "ticks": ""
           }
          },
          "title": {
           "x": 0.05
          },
          "xaxis": {
           "automargin": true,
           "gridcolor": "#EBF0F8",
           "linecolor": "#EBF0F8",
           "ticks": "",
           "title": {
            "standoff": 15
           },
           "zerolinecolor": "#EBF0F8",
           "zerolinewidth": 2
          },
          "yaxis": {
           "automargin": true,
           "gridcolor": "#EBF0F8",
           "linecolor": "#EBF0F8",
           "ticks": "",
           "title": {
            "standoff": 15
           },
           "zerolinecolor": "#EBF0F8",
           "zerolinewidth": 2
          }
         }
        },
        "title": {
         "font": {
          "color": "Black",
          "size": 22
         },
         "text": "Top 20 Topics in ADRs",
         "x": 0.5,
         "xanchor": "center",
         "yanchor": "top"
        },
        "width": 1000,
        "xaxis": {
         "anchor": "y",
         "domain": [
          0,
          0.175
         ],
         "showgrid": true
        },
        "xaxis10": {
         "anchor": "y10",
         "domain": [
          0.275,
          0.45
         ],
         "showgrid": true
        },
        "xaxis11": {
         "anchor": "y11",
         "domain": [
          0.55,
          0.7250000000000001
         ],
         "showgrid": true
        },
        "xaxis12": {
         "anchor": "y12",
         "domain": [
          0.825,
          1
         ],
         "showgrid": true
        },
        "xaxis13": {
         "anchor": "y13",
         "domain": [
          0,
          0.175
         ],
         "showgrid": true
        },
        "xaxis14": {
         "anchor": "y14",
         "domain": [
          0.275,
          0.45
         ],
         "showgrid": true
        },
        "xaxis15": {
         "anchor": "y15",
         "domain": [
          0.55,
          0.7250000000000001
         ],
         "showgrid": true
        },
        "xaxis16": {
         "anchor": "y16",
         "domain": [
          0.825,
          1
         ],
         "showgrid": true
        },
        "xaxis17": {
         "anchor": "y17",
         "domain": [
          0,
          0.175
         ],
         "showgrid": true
        },
        "xaxis18": {
         "anchor": "y18",
         "domain": [
          0.275,
          0.45
         ],
         "showgrid": true
        },
        "xaxis19": {
         "anchor": "y19",
         "domain": [
          0.55,
          0.7250000000000001
         ],
         "showgrid": true
        },
        "xaxis2": {
         "anchor": "y2",
         "domain": [
          0.275,
          0.45
         ],
         "showgrid": true
        },
        "xaxis20": {
         "anchor": "y20",
         "domain": [
          0.825,
          1
         ],
         "showgrid": true
        },
        "xaxis3": {
         "anchor": "y3",
         "domain": [
          0.55,
          0.7250000000000001
         ],
         "showgrid": true
        },
        "xaxis4": {
         "anchor": "y4",
         "domain": [
          0.825,
          1
         ],
         "showgrid": true
        },
        "xaxis5": {
         "anchor": "y5",
         "domain": [
          0,
          0.175
         ],
         "showgrid": true
        },
        "xaxis6": {
         "anchor": "y6",
         "domain": [
          0.275,
          0.45
         ],
         "showgrid": true
        },
        "xaxis7": {
         "anchor": "y7",
         "domain": [
          0.55,
          0.7250000000000001
         ],
         "showgrid": true
        },
        "xaxis8": {
         "anchor": "y8",
         "domain": [
          0.825,
          1
         ],
         "showgrid": true
        },
        "xaxis9": {
         "anchor": "y9",
         "domain": [
          0,
          0.175
         ],
         "showgrid": true
        },
        "yaxis": {
         "anchor": "x",
         "domain": [
          0.8639999999999999,
          0.9999999999999999
         ],
         "showgrid": true
        },
        "yaxis10": {
         "anchor": "x10",
         "domain": [
          0.43199999999999994,
          0.568
         ],
         "showgrid": true
        },
        "yaxis11": {
         "anchor": "x11",
         "domain": [
          0.43199999999999994,
          0.568
         ],
         "showgrid": true
        },
        "yaxis12": {
         "anchor": "x12",
         "domain": [
          0.43199999999999994,
          0.568
         ],
         "showgrid": true
        },
        "yaxis13": {
         "anchor": "x13",
         "domain": [
          0.21599999999999997,
          0.352
         ],
         "showgrid": true
        },
        "yaxis14": {
         "anchor": "x14",
         "domain": [
          0.21599999999999997,
          0.352
         ],
         "showgrid": true
        },
        "yaxis15": {
         "anchor": "x15",
         "domain": [
          0.21599999999999997,
          0.352
         ],
         "showgrid": true
        },
        "yaxis16": {
         "anchor": "x16",
         "domain": [
          0.21599999999999997,
          0.352
         ],
         "showgrid": true
        },
        "yaxis17": {
         "anchor": "x17",
         "domain": [
          0,
          0.13599999999999998
         ],
         "showgrid": true
        },
        "yaxis18": {
         "anchor": "x18",
         "domain": [
          0,
          0.13599999999999998
         ],
         "showgrid": true
        },
        "yaxis19": {
         "anchor": "x19",
         "domain": [
          0,
          0.13599999999999998
         ],
         "showgrid": true
        },
        "yaxis2": {
         "anchor": "x2",
         "domain": [
          0.8639999999999999,
          0.9999999999999999
         ],
         "showgrid": true
        },
        "yaxis20": {
         "anchor": "x20",
         "domain": [
          0,
          0.13599999999999998
         ],
         "showgrid": true
        },
        "yaxis3": {
         "anchor": "x3",
         "domain": [
          0.8639999999999999,
          0.9999999999999999
         ],
         "showgrid": true
        },
        "yaxis4": {
         "anchor": "x4",
         "domain": [
          0.8639999999999999,
          0.9999999999999999
         ],
         "showgrid": true
        },
        "yaxis5": {
         "anchor": "x5",
         "domain": [
          0.6479999999999999,
          0.7839999999999999
         ],
         "showgrid": true
        },
        "yaxis6": {
         "anchor": "x6",
         "domain": [
          0.6479999999999999,
          0.7839999999999999
         ],
         "showgrid": true
        },
        "yaxis7": {
         "anchor": "x7",
         "domain": [
          0.6479999999999999,
          0.7839999999999999
         ],
         "showgrid": true
        },
        "yaxis8": {
         "anchor": "x8",
         "domain": [
          0.6479999999999999,
          0.7839999999999999
         ],
         "showgrid": true
        },
        "yaxis9": {
         "anchor": "x9",
         "domain": [
          0.43199999999999994,
          0.568
         ],
         "showgrid": true
        }
       }
      }
     },
     "metadata": {},
     "output_type": "display_data"
    }
   ],
   "source": [
    "topic_model.visualize_barchart(custom_labels=False, top_n_topics=20, title=\"Top 20 Topics in ADRs\") # It can be saved as a PNG file"
   ]
  },
  {
   "cell_type": "code",
   "execution_count": 49,
   "id": "64e1fa30",
   "metadata": {},
   "outputs": [
    {
     "data": {
      "application/vnd.plotly.v1+json": {
       "config": {
        "plotlyServerURL": "https://plot.ly"
       },
       "data": [
        {
         "coloraxis": "coloraxis",
         "hovertemplate": "x: %{x}<br>y: %{y}<br>Similarity Score: %{z}<extra></extra>",
         "name": "0",
         "type": "heatmap",
         "x": [
          "0_jsx_fxa_react",
          "1_storing_storage_metadata",
          "2_docker_kubernetes_deploym...",
          "3_rabbitmq_queue_listener",
          "4_tendermint_consensus_evid...",
          "5_apis_swagger_api",
          "6_branches_releases_branching",
          "7_oauth2_oauth_authentication",
          "8_python_django_flask",
          "9_cosmos_sdk_protobuf",
          "10_plugins_specification_va...",
          "11_testcontainers_testing_t...",
          "12_hmpps_frontend_webjars",
          "13_terraform_cloudformation...",
          "14_kubernetes_secrets_encrypt",
          "15_testing_tests_test",
          "16_prometheus_monitoring_cl...",
          "17_wikibaseclient_wikibasel...",
          "18_elasticsearch_lucene_sea...",
          "19_eclipse_xml_epl",
          "20_cassandramessageidmapper...",
          "21_logging_logs_logstash",
          "22_typescript_types_type",
          "23_tensorflow_deeplearning4...",
          "24_commits_prettier_github",
          "25_swift_xcode_ios",
          "26_notifications_emails_ale...",
          "27_architecture_embedded_vm",
          "28_translators_translations...",
          "29_java_jdk_intellij",
          "30_uuids_uuid_identifiers",
          "31_authorization_privileges...",
          "32_matlab_python_pythonic",
          "33_tokens_proposals_staking",
          "34_apis_azure_apigee",
          "35_fields_database_qualific...",
          "36_variantsearch_joinawares...",
          "37_screens_setloadingscreen...",
          "38_typescript_standardjs_es...",
          "39_timestamps_datetime_time...",
          "40_edgex_edgexfoundry_secre...",
          "41_holochain_qml_holoport",
          "42_clojure_cljdoc_documenta...",
          "43_openmrs_documentation_se...",
          "44_hyperlink_hyperlinked_fa...",
          "45_graphql_apis_gql",
          "46_dependabot_dependencies_...",
          "47_flutter_downloader_downl...",
          "48_arachne_owl_configuration",
          "49_pipelines_pipeline_pipel...",
          "50_features_feature_feature...",
          "51_cassandra_atlasdb_transa...",
          "52_protocol_secrecy_otr",
          "53_geocoding_geolocation_ge...",
          "54_ocrmypdf_pdfs_pdf",
          "55_licenses_licensing_licen...",
          "56_jwt_jwts_websocket",
          "57_ibc_relaying_relay",
          "58_konduitservingnodeconfig...",
          "59_scratch3_scratch_ftduino",
          "60_collections_collection_d...",
          "61_kafkarator_kafka_kuberne...",
          "62_microservices_microservi...",
          "63_domains_app_domain_inter...",
          "64_eslint_typescript_es6",
          "65_browser_browsers_browser...",
          "66_annotations_tasktype_tasks",
          "67_blobstore_blobstodelete_...",
          "68_tokens_sessions_session",
          "69_github_git_repositories",
          "70_ccs_marketplace_services",
          "71_hibernate_databases_data..."
         ],
         "xaxis": "x",
         "y": [
          "0_jsx_fxa_react",
          "1_storing_storage_metadata",
          "2_docker_kubernetes_deploym...",
          "3_rabbitmq_queue_listener",
          "4_tendermint_consensus_evid...",
          "5_apis_swagger_api",
          "6_branches_releases_branching",
          "7_oauth2_oauth_authentication",
          "8_python_django_flask",
          "9_cosmos_sdk_protobuf",
          "10_plugins_specification_va...",
          "11_testcontainers_testing_t...",
          "12_hmpps_frontend_webjars",
          "13_terraform_cloudformation...",
          "14_kubernetes_secrets_encrypt",
          "15_testing_tests_test",
          "16_prometheus_monitoring_cl...",
          "17_wikibaseclient_wikibasel...",
          "18_elasticsearch_lucene_sea...",
          "19_eclipse_xml_epl",
          "20_cassandramessageidmapper...",
          "21_logging_logs_logstash",
          "22_typescript_types_type",
          "23_tensorflow_deeplearning4...",
          "24_commits_prettier_github",
          "25_swift_xcode_ios",
          "26_notifications_emails_ale...",
          "27_architecture_embedded_vm",
          "28_translators_translations...",
          "29_java_jdk_intellij",
          "30_uuids_uuid_identifiers",
          "31_authorization_privileges...",
          "32_matlab_python_pythonic",
          "33_tokens_proposals_staking",
          "34_apis_azure_apigee",
          "35_fields_database_qualific...",
          "36_variantsearch_joinawares...",
          "37_screens_setloadingscreen...",
          "38_typescript_standardjs_es...",
          "39_timestamps_datetime_time...",
          "40_edgex_edgexfoundry_secre...",
          "41_holochain_qml_holoport",
          "42_clojure_cljdoc_documenta...",
          "43_openmrs_documentation_se...",
          "44_hyperlink_hyperlinked_fa...",
          "45_graphql_apis_gql",
          "46_dependabot_dependencies_...",
          "47_flutter_downloader_downl...",
          "48_arachne_owl_configuration",
          "49_pipelines_pipeline_pipel...",
          "50_features_feature_feature...",
          "51_cassandra_atlasdb_transa...",
          "52_protocol_secrecy_otr",
          "53_geocoding_geolocation_ge...",
          "54_ocrmypdf_pdfs_pdf",
          "55_licenses_licensing_licen...",
          "56_jwt_jwts_websocket",
          "57_ibc_relaying_relay",
          "58_konduitservingnodeconfig...",
          "59_scratch3_scratch_ftduino",
          "60_collections_collection_d...",
          "61_kafkarator_kafka_kuberne...",
          "62_microservices_microservi...",
          "63_domains_app_domain_inter...",
          "64_eslint_typescript_es6",
          "65_browser_browsers_browser...",
          "66_annotations_tasktype_tasks",
          "67_blobstore_blobstodelete_...",
          "68_tokens_sessions_session",
          "69_github_git_repositories",
          "70_ccs_marketplace_services",
          "71_hibernate_databases_data..."
         ],
         "yaxis": "y",
         "z": {
          "bdata": "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",
          "dtype": "f8",
          "shape": "72, 72"
         }
        }
       ],
       "layout": {
        "coloraxis": {
         "colorbar": {
          "title": {
           "text": "Similarity Score"
          }
         },
         "colorscale": [
          [
           0,
           "rgb(247,252,240)"
          ],
          [
           0.125,
           "rgb(224,243,219)"
          ],
          [
           0.25,
           "rgb(204,235,197)"
          ],
          [
           0.375,
           "rgb(168,221,181)"
          ],
          [
           0.5,
           "rgb(123,204,196)"
          ],
          [
           0.625,
           "rgb(78,179,211)"
          ],
          [
           0.75,
           "rgb(43,140,190)"
          ],
          [
           0.875,
           "rgb(8,104,172)"
          ],
          [
           1,
           "rgb(8,64,129)"
          ]
         ]
        },
        "height": 800,
        "hoverlabel": {
         "bgcolor": "white",
         "font": {
          "family": "Rockwell",
          "size": 16
         }
        },
        "legend": {
         "title": {
          "text": "Trend"
         }
        },
        "margin": {
         "t": 60
        },
        "showlegend": true,
        "template": {
         "data": {
          "bar": [
           {
            "error_x": {
             "color": "#2a3f5f"
            },
            "error_y": {
             "color": "#2a3f5f"
            },
            "marker": {
             "line": {
              "color": "#E5ECF6",
              "width": 0.5
             },
             "pattern": {
              "fillmode": "overlay",
              "size": 10,
              "solidity": 0.2
             }
            },
            "type": "bar"
           }
          ],
          "barpolar": [
           {
            "marker": {
             "line": {
              "color": "#E5ECF6",
              "width": 0.5
             },
             "pattern": {
              "fillmode": "overlay",
              "size": 10,
              "solidity": 0.2
             }
            },
            "type": "barpolar"
           }
          ],
          "carpet": [
           {
            "aaxis": {
             "endlinecolor": "#2a3f5f",
             "gridcolor": "white",
             "linecolor": "white",
             "minorgridcolor": "white",
             "startlinecolor": "#2a3f5f"
            },
            "baxis": {
             "endlinecolor": "#2a3f5f",
             "gridcolor": "white",
             "linecolor": "white",
             "minorgridcolor": "white",
             "startlinecolor": "#2a3f5f"
            },
            "type": "carpet"
           }
          ],
          "choropleth": [
           {
            "colorbar": {
             "outlinewidth": 0,
             "ticks": ""
            },
            "type": "choropleth"
           }
          ],
          "contour": [
           {
            "colorbar": {
             "outlinewidth": 0,
             "ticks": ""
            },
            "colorscale": [
             [
              0,
              "#0d0887"
             ],
             [
              0.1111111111111111,
              "#46039f"
             ],
             [
              0.2222222222222222,
              "#7201a8"
             ],
             [
              0.3333333333333333,
              "#9c179e"
             ],
             [
              0.4444444444444444,
              "#bd3786"
             ],
             [
              0.5555555555555556,
              "#d8576b"
             ],
             [
              0.6666666666666666,
              "#ed7953"
             ],
             [
              0.7777777777777778,
              "#fb9f3a"
             ],
             [
              0.8888888888888888,
              "#fdca26"
             ],
             [
              1,
              "#f0f921"
             ]
            ],
            "type": "contour"
           }
          ],
          "contourcarpet": [
           {
            "colorbar": {
             "outlinewidth": 0,
             "ticks": ""
            },
            "type": "contourcarpet"
           }
          ],
          "heatmap": [
           {
            "colorbar": {
             "outlinewidth": 0,
             "ticks": ""
            },
            "colorscale": [
             [
              0,
              "#0d0887"
             ],
             [
              0.1111111111111111,
              "#46039f"
             ],
             [
              0.2222222222222222,
              "#7201a8"
             ],
             [
              0.3333333333333333,
              "#9c179e"
             ],
             [
              0.4444444444444444,
              "#bd3786"
             ],
             [
              0.5555555555555556,
              "#d8576b"
             ],
             [
              0.6666666666666666,
              "#ed7953"
             ],
             [
              0.7777777777777778,
              "#fb9f3a"
             ],
             [
              0.8888888888888888,
              "#fdca26"
             ],
             [
              1,
              "#f0f921"
             ]
            ],
            "type": "heatmap"
           }
          ],
          "histogram": [
           {
            "marker": {
             "pattern": {
              "fillmode": "overlay",
              "size": 10,
              "solidity": 0.2
             }
            },
            "type": "histogram"
           }
          ],
          "histogram2d": [
           {
            "colorbar": {
             "outlinewidth": 0,
             "ticks": ""
            },
            "colorscale": [
             [
              0,
              "#0d0887"
             ],
             [
              0.1111111111111111,
              "#46039f"
             ],
             [
              0.2222222222222222,
              "#7201a8"
             ],
             [
              0.3333333333333333,
              "#9c179e"
             ],
             [
              0.4444444444444444,
              "#bd3786"
             ],
             [
              0.5555555555555556,
              "#d8576b"
             ],
             [
              0.6666666666666666,
              "#ed7953"
             ],
             [
              0.7777777777777778,
              "#fb9f3a"
             ],
             [
              0.8888888888888888,
              "#fdca26"
             ],
             [
              1,
              "#f0f921"
             ]
            ],
            "type": "histogram2d"
           }
          ],
          "histogram2dcontour": [
           {
            "colorbar": {
             "outlinewidth": 0,
             "ticks": ""
            },
            "colorscale": [
             [
              0,
              "#0d0887"
             ],
             [
              0.1111111111111111,
              "#46039f"
             ],
             [
              0.2222222222222222,
              "#7201a8"
             ],
             [
              0.3333333333333333,
              "#9c179e"
             ],
             [
              0.4444444444444444,
              "#bd3786"
             ],
             [
              0.5555555555555556,
              "#d8576b"
             ],
             [
              0.6666666666666666,
              "#ed7953"
             ],
             [
              0.7777777777777778,
              "#fb9f3a"
             ],
             [
              0.8888888888888888,
              "#fdca26"
             ],
             [
              1,
              "#f0f921"
             ]
            ],
            "type": "histogram2dcontour"
           }
          ],
          "mesh3d": [
           {
            "colorbar": {
             "outlinewidth": 0,
             "ticks": ""
            },
            "type": "mesh3d"
           }
          ],
          "parcoords": [
           {
            "line": {
             "colorbar": {
              "outlinewidth": 0,
              "ticks": ""
             }
            },
            "type": "parcoords"
           }
          ],
          "pie": [
           {
            "automargin": true,
            "type": "pie"
           }
          ],
          "scatter": [
           {
            "fillpattern": {
             "fillmode": "overlay",
             "size": 10,
             "solidity": 0.2
            },
            "type": "scatter"
           }
          ],
          "scatter3d": [
           {
            "line": {
             "colorbar": {
              "outlinewidth": 0,
              "ticks": ""
             }
            },
            "marker": {
             "colorbar": {
              "outlinewidth": 0,
              "ticks": ""
             }
            },
            "type": "scatter3d"
           }
          ],
          "scattercarpet": [
           {
            "marker": {
             "colorbar": {
              "outlinewidth": 0,
              "ticks": ""
             }
            },
            "type": "scattercarpet"
           }
          ],
          "scattergeo": [
           {
            "marker": {
             "colorbar": {
              "outlinewidth": 0,
              "ticks": ""
             }
            },
            "type": "scattergeo"
           }
          ],
          "scattergl": [
           {
            "marker": {
             "colorbar": {
              "outlinewidth": 0,
              "ticks": ""
             }
            },
            "type": "scattergl"
           }
          ],
          "scattermap": [
           {
            "marker": {
             "colorbar": {
              "outlinewidth": 0,
              "ticks": ""
             }
            },
            "type": "scattermap"
           }
          ],
          "scattermapbox": [
           {
            "marker": {
             "colorbar": {
              "outlinewidth": 0,
              "ticks": ""
             }
            },
            "type": "scattermapbox"
           }
          ],
          "scatterpolar": [
           {
            "marker": {
             "colorbar": {
              "outlinewidth": 0,
              "ticks": ""
             }
            },
            "type": "scatterpolar"
           }
          ],
          "scatterpolargl": [
           {
            "marker": {
             "colorbar": {
              "outlinewidth": 0,
              "ticks": ""
             }
            },
            "type": "scatterpolargl"
           }
          ],
          "scatterternary": [
           {
            "marker": {
             "colorbar": {
              "outlinewidth": 0,
              "ticks": ""
             }
            },
            "type": "scatterternary"
           }
          ],
          "surface": [
           {
            "colorbar": {
             "outlinewidth": 0,
             "ticks": ""
            },
            "colorscale": [
             [
              0,
              "#0d0887"
             ],
             [
              0.1111111111111111,
              "#46039f"
             ],
             [
              0.2222222222222222,
              "#7201a8"
             ],
             [
              0.3333333333333333,
              "#9c179e"
             ],
             [
              0.4444444444444444,
              "#bd3786"
             ],
             [
              0.5555555555555556,
              "#d8576b"
             ],
             [
              0.6666666666666666,
              "#ed7953"
             ],
             [
              0.7777777777777778,
              "#fb9f3a"
             ],
             [
              0.8888888888888888,
              "#fdca26"
             ],
             [
              1,
              "#f0f921"
             ]
            ],
            "type": "surface"
           }
          ],
          "table": [
           {
            "cells": {
             "fill": {
              "color": "#EBF0F8"
             },
             "line": {
              "color": "white"
             }
            },
            "header": {
             "fill": {
              "color": "#C8D4E3"
             },
             "line": {
              "color": "white"
             }
            },
            "type": "table"
           }
          ]
         },
         "layout": {
          "annotationdefaults": {
           "arrowcolor": "#2a3f5f",
           "arrowhead": 0,
           "arrowwidth": 1
          },
          "autotypenumbers": "strict",
          "coloraxis": {
           "colorbar": {
            "outlinewidth": 0,
            "ticks": ""
           }
          },
          "colorscale": {
           "diverging": [
            [
             0,
             "#8e0152"
            ],
            [
             0.1,
             "#c51b7d"
            ],
            [
             0.2,
             "#de77ae"
            ],
            [
             0.3,
             "#f1b6da"
            ],
            [
             0.4,
             "#fde0ef"
            ],
            [
             0.5,
             "#f7f7f7"
            ],
            [
             0.6,
             "#e6f5d0"
            ],
            [
             0.7,
             "#b8e186"
            ],
            [
             0.8,
             "#7fbc41"
            ],
            [
             0.9,
             "#4d9221"
            ],
            [
             1,
             "#276419"
            ]
           ],
           "sequential": [
            [
             0,
             "#0d0887"
            ],
            [
             0.1111111111111111,
             "#46039f"
            ],
            [
             0.2222222222222222,
             "#7201a8"
            ],
            [
             0.3333333333333333,
             "#9c179e"
            ],
            [
             0.4444444444444444,
             "#bd3786"
            ],
            [
             0.5555555555555556,
             "#d8576b"
            ],
            [
             0.6666666666666666,
             "#ed7953"
            ],
            [
             0.7777777777777778,
             "#fb9f3a"
            ],
            [
             0.8888888888888888,
             "#fdca26"
            ],
            [
             1,
             "#f0f921"
            ]
           ],
           "sequentialminus": [
            [
             0,
             "#0d0887"
            ],
            [
             0.1111111111111111,
             "#46039f"
            ],
            [
             0.2222222222222222,
             "#7201a8"
            ],
            [
             0.3333333333333333,
             "#9c179e"
            ],
            [
             0.4444444444444444,
             "#bd3786"
            ],
            [
             0.5555555555555556,
             "#d8576b"
            ],
            [
             0.6666666666666666,
             "#ed7953"
            ],
            [
             0.7777777777777778,
             "#fb9f3a"
            ],
            [
             0.8888888888888888,
             "#fdca26"
            ],
            [
             1,
             "#f0f921"
            ]
           ]
          },
          "colorway": [
           "#636efa",
           "#EF553B",
           "#00cc96",
           "#ab63fa",
           "#FFA15A",
           "#19d3f3",
           "#FF6692",
           "#B6E880",
           "#FF97FF",
           "#FECB52"
          ],
          "font": {
           "color": "#2a3f5f"
          },
          "geo": {
           "bgcolor": "white",
           "lakecolor": "white",
           "landcolor": "#E5ECF6",
           "showlakes": true,
           "showland": true,
           "subunitcolor": "white"
          },
          "hoverlabel": {
           "align": "left"
          },
          "hovermode": "closest",
          "mapbox": {
           "style": "light"
          },
          "paper_bgcolor": "white",
          "plot_bgcolor": "#E5ECF6",
          "polar": {
           "angularaxis": {
            "gridcolor": "white",
            "linecolor": "white",
            "ticks": ""
           },
           "bgcolor": "#E5ECF6",
           "radialaxis": {
            "gridcolor": "white",
            "linecolor": "white",
            "ticks": ""
           }
          },
          "scene": {
           "xaxis": {
            "backgroundcolor": "#E5ECF6",
            "gridcolor": "white",
            "gridwidth": 2,
            "linecolor": "white",
            "showbackground": true,
            "ticks": "",
            "zerolinecolor": "white"
           },
           "yaxis": {
            "backgroundcolor": "#E5ECF6",
            "gridcolor": "white",
            "gridwidth": 2,
            "linecolor": "white",
            "showbackground": true,
            "ticks": "",
            "zerolinecolor": "white"
           },
           "zaxis": {
            "backgroundcolor": "#E5ECF6",
            "gridcolor": "white",
            "gridwidth": 2,
            "linecolor": "white",
            "showbackground": true,
            "ticks": "",
            "zerolinecolor": "white"
           }
          },
          "shapedefaults": {
           "line": {
            "color": "#2a3f5f"
           }
          },
          "ternary": {
           "aaxis": {
            "gridcolor": "white",
            "linecolor": "white",
            "ticks": ""
           },
           "baxis": {
            "gridcolor": "white",
            "linecolor": "white",
            "ticks": ""
           },
           "bgcolor": "#E5ECF6",
           "caxis": {
            "gridcolor": "white",
            "linecolor": "white",
            "ticks": ""
           }
          },
          "title": {
           "x": 0.05
          },
          "xaxis": {
           "automargin": true,
           "gridcolor": "white",
           "linecolor": "white",
           "ticks": "",
           "title": {
            "standoff": 15
           },
           "zerolinecolor": "white",
           "zerolinewidth": 2
          },
          "yaxis": {
           "automargin": true,
           "gridcolor": "white",
           "linecolor": "white",
           "ticks": "",
           "title": {
            "standoff": 15
           },
           "zerolinecolor": "white",
           "zerolinewidth": 2
          }
         }
        },
        "title": {
         "font": {
          "color": "Black",
          "size": 22
         },
         "text": "<b>Similarity Matrix</b>",
         "x": 0.55,
         "xanchor": "center",
         "y": 0.95,
         "yanchor": "top"
        },
        "width": 800,
        "xaxis": {
         "anchor": "y",
         "constrain": "domain",
         "domain": [
          0,
          1
         ],
         "scaleanchor": "y"
        },
        "yaxis": {
         "anchor": "x",
         "autorange": "reversed",
         "constrain": "domain",
         "domain": [
          0,
          1
         ]
        }
       }
      }
     },
     "metadata": {},
     "output_type": "display_data"
    }
   ],
   "source": [
    "topic_model.visualize_heatmap() # Topic similarity"
   ]
  },
  {
   "cell_type": "code",
   "execution_count": 50,
   "id": "52c71ec3",
   "metadata": {},
   "outputs": [
    {
     "name": "stderr",
     "output_type": "stream",
     "text": [
      "100%|██████████| 5/5 [00:07<00:00,  1.57s/it]\n"
     ]
    }
   ],
   "source": [
    "# Get the document-topic probabilities\n",
    "topic_distribution, _ = topic_model.approximate_distribution(corpus)"
   ]
  },
  {
   "cell_type": "markdown",
   "id": "5694a1cf",
   "metadata": {},
   "source": [
    "### Hierarchies"
   ]
  },
  {
   "cell_type": "code",
   "execution_count": 56,
   "id": "c3e31281",
   "metadata": {},
   "outputs": [
    {
     "data": {
      "application/vnd.plotly.v1+json": {
       "config": {
        "plotlyServerURL": "https://plot.ly"
       },
       "data": [
        {
         "hoverinfo": "text",
         "marker": {
          "color": "rgb(61,153,112)"
         },
         "mode": "lines",
         "type": "scatter",
         "x": {
          "bdata": "AAAAAAAAAADqewGM4efhP+p7AYzh5+E/AAAAAAAAAAA=",
          "dtype": "f8"
         },
         "xaxis": "x",
         "y": {
          "bdata": "AAAAAAAAFMAAAAAAAAAUwAAAAAAAAC7AAAAAAAAALsA=",
          "dtype": "f8"
         },
         "yaxis": "y"
        },
        {
         "hoverinfo": "text",
         "marker": {
          "color": "rgb(61,153,112)"
         },
         "mode": "lines",
         "type": "scatter",
         "x": {
          "bdata": "AAAAAAAAAACPc4E3porqP49zgTemiuo/AAAAAAAAAAA=",
          "dtype": "f8"
         },
         "xaxis": "x",
         "y": {
          "bdata": "AAAAAAAAOcAAAAAAAAA5wAAAAAAAgEHAAAAAAACAQcA=",
          "dtype": "f8"
         },
         "yaxis": "y"
        },
        {
         "hoverinfo": "text",
         "marker": {
          "color": "rgb(61,153,112)"
         },
         "mode": "lines",
         "type": "scatter",
         "x": {
          "bdata": "6nsBjOHn4T8UpLZTwJnsPxSktlPAmew/j3OBN6aK6j8=",
          "dtype": "f8"
         },
         "xaxis": "x",
         "y": {
          "bdata": "AAAAAAAAJMAAAAAAAAAkwAAAAAAAAD7AAAAAAAAAPsA=",
          "dtype": "f8"
         },
         "yaxis": "y"
        },
        {
         "hoverinfo": "text",
         "marker": {
          "color": "rgb(255,65,54)"
         },
         "mode": "lines",
         "type": "scatter",
         "x": {
          "bdata": "AAAAAAAAAAC20/JjGGfXP7bT8mMYZ9c/AAAAAAAAAAA=",
          "dtype": "f8"
         },
         "xaxis": "x",
         "y": {
          "bdata": "AAAAAACARsAAAAAAAIBGwAAAAAAAgEvAAAAAAACAS8A=",
          "dtype": "f8"
         },
         "yaxis": "y"
        },
        {
         "hoverinfo": "text",
         "marker": {
          "color": "rgb(35,205,205)"
         },
         "mode": "lines",
         "type": "scatter",
         "x": {
          "bdata": "AAAAAAAAAADy/o3xdO/rP/L+jfF07+s/AAAAAAAAAAA=",
          "dtype": "f8"
         },
         "xaxis": "x",
         "y": {
          "bdata": "AAAAAABAUMAAAAAAAEBQwAAAAAAAwFLAAAAAAADAUsA=",
          "dtype": "f8"
         },
         "yaxis": "y"
        },
        {
         "hoverinfo": "text",
         "marker": {
          "color": "rgb(35,205,205)"
         },
         "mode": "lines",
         "type": "scatter",
         "x": {
          "bdata": "AAAAAAAAAAAUCsZB5MLpPxQKxkHkwuk/AAAAAAAAAAA=",
          "dtype": "f8"
         },
         "xaxis": "x",
         "y": {
          "bdata": "AAAAAABAVcAAAAAAAEBVwAAAAAAAwFfAAAAAAADAV8A=",
          "dtype": "f8"
         },
         "yaxis": "y"
        },
        {
         "hoverinfo": "text",
         "marker": {
          "color": "rgb(35,205,205)"
         },
         "mode": "lines",
         "type": "scatter",
         "x": {
          "bdata": "FArGQeTC6T+lCpqxPM7qP6UKmrE8zuo/AAAAAAAAAAA=",
          "dtype": "f8"
         },
         "xaxis": "x",
         "y": {
          "bdata": "AAAAAACAVsAAAAAAAIBWwAAAAAAAQFrAAAAAAABAWsA=",
          "dtype": "f8"
         },
         "yaxis": "y"
        },
        {
         "hoverinfo": "text",
         "marker": {
          "color": "rgb(35,205,205)"
         },
         "mode": "lines",
         "type": "scatter",
         "x": {
          "bdata": "8v6N8XTv6z8En46dtgztPwSfjp22DO0/pQqasTzO6j8=",
          "dtype": "f8"
         },
         "xaxis": "x",
         "y": {
          "bdata": "AAAAAACAUcAAAAAAAIBRwAAAAAAAYFjAAAAAAABgWMA=",
          "dtype": "f8"
         },
         "yaxis": "y"
        },
        {
         "hoverinfo": "text",
         "marker": {
          "color": "rgb(35,205,205)"
         },
         "mode": "lines",
         "type": "scatter",
         "x": {
          "bdata": "AAAAAAAAAACTTbLNBsjjP5NNss0GyOM/AAAAAAAAAAA=",
          "dtype": "f8"
         },
         "xaxis": "x",
         "y": {
          "bdata": "AAAAAABAX8AAAAAAAEBfwAAAAAAA4GDAAAAAAADgYMA=",
          "dtype": "f8"
         },
         "yaxis": "y"
        },
        {
         "hoverinfo": "text",
         "marker": {
          "color": "rgb(35,205,205)"
         },
         "mode": "lines",
         "type": "scatter",
         "x": {
          "bdata": "AAAAAAAAAAAS3m98m1TkPxLeb3ybVOQ/AAAAAAAAAAA=",
          "dtype": "f8"
         },
         "xaxis": "x",
         "y": {
          "bdata": "AAAAAAAgYsAAAAAAACBiwAAAAAAAYGPAAAAAAABgY8A=",
          "dtype": "f8"
         },
         "yaxis": "y"
        },
        {
         "hoverinfo": "text",
         "marker": {
          "color": "rgb(35,205,205)"
         },
         "mode": "lines",
         "type": "scatter",
         "x": {
          "bdata": "k02yzQbI4z/JFlr5keflP8kWWvmR5+U/Et5vfJtU5D8=",
          "dtype": "f8"
         },
         "xaxis": "x",
         "y": {
          "bdata": "AAAAAABAYMAAAAAAAEBgwAAAAAAAwGLAAAAAAADAYsA=",
          "dtype": "f8"
         },
         "yaxis": "y"
        },
        {
         "hoverinfo": "text",
         "marker": {
          "color": "rgb(35,205,205)"
         },
         "mode": "lines",
         "type": "scatter",
         "x": {
          "bdata": "AAAAAAAAAADKSfeal+vhP8pJ95qX6+E/AAAAAAAAAAA=",
          "dtype": "f8"
         },
         "xaxis": "x",
         "y": {
          "bdata": "AAAAAADgZcAAAAAAAOBlwAAAAAAAIGfAAAAAAAAgZ8A=",
          "dtype": "f8"
         },
         "yaxis": "y"
        },
        {
         "hoverinfo": "text",
         "marker": {
          "color": "rgb(35,205,205)"
         },
         "mode": "lines",
         "type": "scatter",
         "x": {
          "bdata": "AAAAAAAAAABTqmNM0pbkP1OqY0zSluQ/ykn3mpfr4T8=",
          "dtype": "f8"
         },
         "xaxis": "x",
         "y": {
          "bdata": "AAAAAACgZMAAAAAAAKBkwAAAAAAAgGbAAAAAAACAZsA=",
          "dtype": "f8"
         },
         "yaxis": "y"
        },
        {
         "hoverinfo": "text",
         "marker": {
          "color": "rgb(35,205,205)"
         },
         "mode": "lines",
         "type": "scatter",
         "x": {
          "bdata": "yRZa+ZHn5T8BxoZ7kU3nPwHGhnuRTec/U6pjTNKW5D8=",
          "dtype": "f8"
         },
         "xaxis": "x",
         "y": {
          "bdata": "AAAAAACAYcAAAAAAAIBhwAAAAAAAkGXAAAAAAACQZcA=",
          "dtype": "f8"
         },
         "yaxis": "y"
        },
        {
         "hoverinfo": "text",
         "marker": {
          "color": "rgb(35,205,205)"
         },
         "mode": "lines",
         "type": "scatter",
         "x": {
          "bdata": "AcaGe5FN5z+nPkuHDp7pP6c+S4cOnuk/AAAAAAAAAAA=",
          "dtype": "f8"
         },
         "xaxis": "x",
         "y": {
          "bdata": "AAAAAACIY8AAAAAAAIhjwAAAAAAAYGjAAAAAAABgaMA=",
          "dtype": "f8"
         },
         "yaxis": "y"
        },
        {
         "hoverinfo": "text",
         "marker": {
          "color": "rgb(35,205,205)"
         },
         "mode": "lines",
         "type": "scatter",
         "x": {
          "bdata": "AAAAAAAAAADZQ2pN4JTqP9lDak3glOo/pz5Lhw6e6T8=",
          "dtype": "f8"
         },
         "xaxis": "x",
         "y": {
          "bdata": "AAAAAADAXMAAAAAAAMBcwAAAAAAA9GXAAAAAAAD0ZcA=",
          "dtype": "f8"
         },
         "yaxis": "y"
        },
        {
         "hoverinfo": "text",
         "marker": {
          "color": "rgb(35,205,205)"
         },
         "mode": "lines",
         "type": "scatter",
         "x": {
          "bdata": "AAAAAAAAAADdBczKcxnpP90FzMpzGek/AAAAAAAAAAA=",
          "dtype": "f8"
         },
         "xaxis": "x",
         "y": {
          "bdata": "AAAAAACgacAAAAAAAKBpwAAAAAAA4GrAAAAAAADgasA=",
          "dtype": "f8"
         },
         "yaxis": "y"
        },
        {
         "hoverinfo": "text",
         "marker": {
          "color": "rgb(35,205,205)"
         },
         "mode": "lines",
         "type": "scatter",
         "x": {
          "bdata": "2UNqTeCU6j8bieOpQonrPxuJ46lCies/3QXMynMZ6T8=",
          "dtype": "f8"
         },
         "xaxis": "x",
         "y": {
          "bdata": "AAAAAAAqYsAAAAAAACpiwAAAAAAAQGrAAAAAAABAasA=",
          "dtype": "f8"
         },
         "yaxis": "y"
        },
        {
         "hoverinfo": "text",
         "marker": {
          "color": "rgb(35,205,205)"
         },
         "mode": "lines",
         "type": "scatter",
         "x": {
          "bdata": "AAAAAAAAAACv3xSSONnqP6/fFJI42eo/AAAAAAAAAAA=",
          "dtype": "f8"
         },
         "xaxis": "x",
         "y": {
          "bdata": "AAAAAAAgbMAAAAAAACBswAAAAAAAYG3AAAAAAABgbcA=",
          "dtype": "f8"
         },
         "yaxis": "y"
        },
        {
         "hoverinfo": "text",
         "marker": {
          "color": "rgb(35,205,205)"
         },
         "mode": "lines",
         "type": "scatter",
         "x": {
          "bdata": "r98UkjjZ6j9NZe+4MqDsP01l77gyoOw/AAAAAAAAAAA=",
          "dtype": "f8"
         },
         "xaxis": "x",
         "y": {
          "bdata": "AAAAAADAbMAAAAAAAMBswAAAAAAAoG7AAAAAAACgbsA=",
          "dtype": "f8"
         },
         "yaxis": "y"
        },
        {
         "hoverinfo": "text",
         "marker": {
          "color": "rgb(35,205,205)"
         },
         "mode": "lines",
         "type": "scatter",
         "x": {
          "bdata": "G4njqUKJ6z9Om2EEMh/uP06bYQQyH+4/TWXvuDKg7D8=",
          "dtype": "f8"
         },
         "xaxis": "x",
         "y": {
          "bdata": "AAAAAAA1ZsAAAAAAADVmwAAAAAAAsG3AAAAAAACwbcA=",
          "dtype": "f8"
         },
         "yaxis": "y"
        },
        {
         "hoverinfo": "text",
         "marker": {
          "color": "rgb(35,205,205)"
         },
         "mode": "lines",
         "type": "scatter",
         "x": {
          "bdata": "BJ+OnbYM7T9AsHWjJKjuP0CwdaMkqO4/TpthBDIf7j8=",
          "dtype": "f8"
         },
         "xaxis": "x",
         "y": {
          "bdata": "AAAAAADwVMAAAAAAAPBUwAAAAACA8mnAAAAAAIDyacA=",
          "dtype": "f8"
         },
         "yaxis": "y"
        },
        {
         "hoverinfo": "text",
         "marker": {
          "color": "rgb(0,116,217)"
         },
         "mode": "lines",
         "type": "scatter",
         "x": {
          "bdata": "ttPyYxhn1z9nl+RZhFvxP2eX5FmEW/E/QLB1oySo7j8=",
          "dtype": "f8"
         },
         "xaxis": "x",
         "y": {
          "bdata": "AAAAAAAAScAAAAAAAABJwAAAAABANWLAAAAAAEA1YsA=",
          "dtype": "f8"
         },
         "yaxis": "y"
        },
        {
         "hoverinfo": "text",
         "marker": {
          "color": "rgb(0,116,217)"
         },
         "mode": "lines",
         "type": "scatter",
         "x": {
          "bdata": "FKS2U8CZ7D/yhK+lRo7zP/KEr6VGjvM/Z5fkWYRb8T8=",
          "dtype": "f8"
         },
         "xaxis": "x",
         "y": {
          "bdata": "AAAAAAAANMAAAAAAAAA0wAAAAABAdVjAAAAAAEB1WMA=",
          "dtype": "f8"
         },
         "yaxis": "y"
        },
        {
         "hoverinfo": "text",
         "marker": {
          "color": "rgb(133,20,75)"
         },
         "mode": "lines",
         "type": "scatter",
         "x": {
          "bdata": "AAAAAAAAAADTWj87fU3lP9NaPzt9TeU/AAAAAAAAAAA=",
          "dtype": "f8"
         },
         "xaxis": "x",
         "y": {
          "bdata": "AAAAAACQcMAAAAAAAJBwwAAAAAAAMHHAAAAAAAAwccA=",
          "dtype": "f8"
         },
         "yaxis": "y"
        },
        {
         "hoverinfo": "text",
         "marker": {
          "color": "rgb(133,20,75)"
         },
         "mode": "lines",
         "type": "scatter",
         "x": {
          "bdata": "AAAAAAAAAAB51P+HzF7uP3nU/4fMXu4/01o/O31N5T8=",
          "dtype": "f8"
         },
         "xaxis": "x",
         "y": {
          "bdata": "AAAAAADgb8AAAAAAAOBvwAAAAAAA4HDAAAAAAADgcMA=",
          "dtype": "f8"
         },
         "yaxis": "y"
        },
        {
         "hoverinfo": "text",
         "marker": {
          "color": "rgb(255,220,0)"
         },
         "mode": "lines",
         "type": "scatter",
         "x": {
          "bdata": "AAAAAAAAAACcaJblihnrP5xoluWKGes/AAAAAAAAAAA=",
          "dtype": "f8"
         },
         "xaxis": "x",
         "y": {
          "bdata": "AAAAAADQccAAAAAAANBxwAAAAAAAcHLAAAAAAABwcsA=",
          "dtype": "f8"
         },
         "yaxis": "y"
        },
        {
         "hoverinfo": "text",
         "marker": {
          "color": "rgb(255,220,0)"
         },
         "mode": "lines",
         "type": "scatter",
         "x": {
          "bdata": "AAAAAAAAAACSjhH00BbpP5KOEfTQFuk/AAAAAAAAAAA=",
          "dtype": "f8"
         },
         "xaxis": "x",
         "y": {
          "bdata": "AAAAAAAQc8AAAAAAABBzwAAAAAAAsHPAAAAAAACwc8A=",
          "dtype": "f8"
         },
         "yaxis": "y"
        },
        {
         "hoverinfo": "text",
         "marker": {
          "color": "rgb(255,220,0)"
         },
         "mode": "lines",
         "type": "scatter",
         "x": {
          "bdata": "AAAAAAAAAAAl4Obmk+boPyXg5uaT5ug/AAAAAAAAAAA=",
          "dtype": "f8"
         },
         "xaxis": "x",
         "y": {
          "bdata": "AAAAAABQdMAAAAAAAFB0wAAAAAAA8HTAAAAAAADwdMA=",
          "dtype": "f8"
         },
         "yaxis": "y"
        },
        {
         "hoverinfo": "text",
         "marker": {
          "color": "rgb(255,220,0)"
         },
         "mode": "lines",
         "type": "scatter",
         "x": {
          "bdata": "JeDm5pPm6D91nJ4RHmHqP3WcnhEeYeo/AAAAAAAAAAA=",
          "dtype": "f8"
         },
         "xaxis": "x",
         "y": {
          "bdata": "AAAAAACgdMAAAAAAAKB0wAAAAAAAkHXAAAAAAACQdcA=",
          "dtype": "f8"
         },
         "yaxis": "y"
        },
        {
         "hoverinfo": "text",
         "marker": {
          "color": "rgb(255,220,0)"
         },
         "mode": "lines",
         "type": "scatter",
         "x": {
          "bdata": "dZyeER5h6j893/cR8iDrPz3f9xHyIOs/AAAAAAAAAAA=",
          "dtype": "f8"
         },
         "xaxis": "x",
         "y": {
          "bdata": "AAAAAAAYdcAAAAAAABh1wAAAAAAAMHbAAAAAAAAwdsA=",
          "dtype": "f8"
         },
         "yaxis": "y"
        },
        {
         "hoverinfo": "text",
         "marker": {
          "color": "rgb(255,220,0)"
         },
         "mode": "lines",
         "type": "scatter",
         "x": {
          "bdata": "ko4R9NAW6T8WsWi+qX3sPxaxaL6pfew/Pd/3EfIg6z8=",
          "dtype": "f8"
         },
         "xaxis": "x",
         "y": {
          "bdata": "AAAAAABgc8AAAAAAAGBzwAAAAAAApHXAAAAAAACkdcA=",
          "dtype": "f8"
         },
         "yaxis": "y"
        },
        {
         "hoverinfo": "text",
         "marker": {
          "color": "rgb(255,220,0)"
         },
         "mode": "lines",
         "type": "scatter",
         "x": {
          "bdata": "nGiW5YoZ6z+xcvY4V1/uP7Fy9jhXX+4/FrFovql97D8=",
          "dtype": "f8"
         },
         "xaxis": "x",
         "y": {
          "bdata": "AAAAAAAgcsAAAAAAACBywAAAAAAAgnTAAAAAAACCdMA=",
          "dtype": "f8"
         },
         "yaxis": "y"
        },
        {
         "hoverinfo": "text",
         "marker": {
          "color": "rgb(40,35,35)"
         },
         "mode": "lines",
         "type": "scatter",
         "x": {
          "bdata": "AAAAAAAAAAAwbKkgY43tPzBsqSBjje0/AAAAAAAAAAA=",
          "dtype": "f8"
         },
         "xaxis": "x",
         "y": {
          "bdata": "AAAAAADQdsAAAAAAANB2wAAAAAAAcHfAAAAAAABwd8A=",
          "dtype": "f8"
         },
         "yaxis": "y"
        },
        {
         "hoverinfo": "text",
         "marker": {
          "color": "rgb(40,35,35)"
         },
         "mode": "lines",
         "type": "scatter",
         "x": {
          "bdata": "AAAAAAAAAACHJ9EttfLrP4cn0S218us/AAAAAAAAAAA=",
          "dtype": "f8"
         },
         "xaxis": "x",
         "y": {
          "bdata": "AAAAAAAQeMAAAAAAABB4wAAAAAAAsHjAAAAAAACweMA=",
          "dtype": "f8"
         },
         "yaxis": "y"
        },
        {
         "hoverinfo": "text",
         "marker": {
          "color": "rgb(40,35,35)"
         },
         "mode": "lines",
         "type": "scatter",
         "x": {
          "bdata": "MGypIGON7T/Q06gs7CTuP9DTqCzsJO4/hyfRLbXy6z8=",
          "dtype": "f8"
         },
         "xaxis": "x",
         "y": {
          "bdata": "AAAAAAAgd8AAAAAAACB3wAAAAAAAYHjAAAAAAABgeMA=",
          "dtype": "f8"
         },
         "yaxis": "y"
        },
        {
         "hoverinfo": "text",
         "marker": {
          "color": "rgb(40,35,35)"
         },
         "mode": "lines",
         "type": "scatter",
         "x": {
          "bdata": "AAAAAAAAAADW82eyxh/rP9bzZ7LGH+s/AAAAAAAAAAA=",
          "dtype": "f8"
         },
         "xaxis": "x",
         "y": {
          "bdata": "AAAAAADwecAAAAAAAPB5wAAAAAAAkHrAAAAAAACQesA=",
          "dtype": "f8"
         },
         "yaxis": "y"
        },
        {
         "hoverinfo": "text",
         "marker": {
          "color": "rgb(40,35,35)"
         },
         "mode": "lines",
         "type": "scatter",
         "x": {
          "bdata": "AAAAAAAAAABBLXo1+O/rP0EtejX47+s/1vNnssYf6z8=",
          "dtype": "f8"
         },
         "xaxis": "x",
         "y": {
          "bdata": "AAAAAABQecAAAAAAAFB5wAAAAAAAQHrAAAAAAABAesA=",
          "dtype": "f8"
         },
         "yaxis": "y"
        },
        {
         "hoverinfo": "text",
         "marker": {
          "color": "rgb(40,35,35)"
         },
         "mode": "lines",
         "type": "scatter",
         "x": {
          "bdata": "QS16Nfjv6z/9dgTyCDjtP/12BPIIOO0/AAAAAAAAAAA=",
          "dtype": "f8"
         },
         "xaxis": "x",
         "y": {
          "bdata": "AAAAAADIecAAAAAAAMh5wAAAAAAAMHvAAAAAAAAwe8A=",
          "dtype": "f8"
         },
         "yaxis": "y"
        },
        {
         "hoverinfo": "text",
         "marker": {
          "color": "rgb(40,35,35)"
         },
         "mode": "lines",
         "type": "scatter",
         "x": {
          "bdata": "0NOoLOwk7j8y80l5kH/vPzLzSXmQf+8//XYE8gg47T8=",
          "dtype": "f8"
         },
         "xaxis": "x",
         "y": {
          "bdata": "AAAAAADAd8AAAAAAAMB3wAAAAAAAfHrAAAAAAAB8esA=",
          "dtype": "f8"
         },
         "yaxis": "y"
        },
        {
         "hoverinfo": "text",
         "marker": {
          "color": "rgb(0,116,217)"
         },
         "mode": "lines",
         "type": "scatter",
         "x": {
          "bdata": "sXL2OFdf7j8NRp0GV2vwPw1GnQZXa/A/MvNJeZB/7z8=",
          "dtype": "f8"
         },
         "xaxis": "x",
         "y": {
          "bdata": "AAAAAABRc8AAAAAAAFFzwAAAAAAAHnnAAAAAAAAeecA=",
          "dtype": "f8"
         },
         "yaxis": "y"
        },
        {
         "hoverinfo": "text",
         "marker": {
          "color": "rgb(61,153,112)"
         },
         "mode": "lines",
         "type": "scatter",
         "x": {
          "bdata": "AAAAAAAAAAASxvvhkErmPxLG++GQSuY/AAAAAAAAAAA=",
          "dtype": "f8"
         },
         "xaxis": "x",
         "y": {
          "bdata": "AAAAAABwfMAAAAAAAHB8wAAAAAAAEH3AAAAAAAAQfcA=",
          "dtype": "f8"
         },
         "yaxis": "y"
        },
        {
         "hoverinfo": "text",
         "marker": {
          "color": "rgb(61,153,112)"
         },
         "mode": "lines",
         "type": "scatter",
         "x": {
          "bdata": "AAAAAAAAAAApE/k2dbXsPykT+TZ1tew/Esb74ZBK5j8=",
          "dtype": "f8"
         },
         "xaxis": "x",
         "y": {
          "bdata": "AAAAAADQe8AAAAAAANB7wAAAAAAAwHzAAAAAAADAfMA=",
          "dtype": "f8"
         },
         "yaxis": "y"
        },
        {
         "hoverinfo": "text",
         "marker": {
          "color": "rgb(255,65,54)"
         },
         "mode": "lines",
         "type": "scatter",
         "x": {
          "bdata": "AAAAAAAAAACl4Av9eQLpP6XgC/15Auk/AAAAAAAAAAA=",
          "dtype": "f8"
         },
         "xaxis": "x",
         "y": {
          "bdata": "AAAAAADwfsAAAAAAAPB+wAAAAAAAkH/AAAAAAACQf8A=",
          "dtype": "f8"
         },
         "yaxis": "y"
        },
        {
         "hoverinfo": "text",
         "marker": {
          "color": "rgb(255,65,54)"
         },
         "mode": "lines",
         "type": "scatter",
         "x": {
          "bdata": "AAAAAAAAAABfc2O9gifrP19zY72CJ+s/peAL/XkC6T8=",
          "dtype": "f8"
         },
         "xaxis": "x",
         "y": {
          "bdata": "AAAAAABQfsAAAAAAAFB+wAAAAAAAQH/AAAAAAABAf8A=",
          "dtype": "f8"
         },
         "yaxis": "y"
        },
        {
         "hoverinfo": "text",
         "marker": {
          "color": "rgb(255,65,54)"
         },
         "mode": "lines",
         "type": "scatter",
         "x": {
          "bdata": "X3NjvYIn6z+5cePQPcrrP7lx49A9yus/AAAAAAAAAAA=",
          "dtype": "f8"
         },
         "xaxis": "x",
         "y": {
          "bdata": "AAAAAADIfsAAAAAAAMh+wAAAAAAAGIDAAAAAAAAYgMA=",
          "dtype": "f8"
         },
         "yaxis": "y"
        },
        {
         "hoverinfo": "text",
         "marker": {
          "color": "rgb(255,65,54)"
         },
         "mode": "lines",
         "type": "scatter",
         "x": {
          "bdata": "AAAAAAAAAACOXU2XYH/uP45dTZdgf+4/uXHj0D3K6z8=",
          "dtype": "f8"
         },
         "xaxis": "x",
         "y": {
          "bdata": "AAAAAACwfcAAAAAAALB9wAAAAAAAfH/AAAAAAAB8f8A=",
          "dtype": "f8"
         },
         "yaxis": "y"
        },
        {
         "hoverinfo": "text",
         "marker": {
          "color": "rgb(255,65,54)"
         },
         "mode": "lines",
         "type": "scatter",
         "x": {
          "bdata": "AAAAAAAAAACae1kRRz/qP5p7WRFHP+o/AAAAAAAAAAA=",
          "dtype": "f8"
         },
         "xaxis": "x",
         "y": {
          "bdata": "AAAAAABogMAAAAAAAGiAwAAAAAAAuIDAAAAAAAC4gMA=",
          "dtype": "f8"
         },
         "yaxis": "y"
        },
        {
         "hoverinfo": "text",
         "marker": {
          "color": "rgb(255,65,54)"
         },
         "mode": "lines",
         "type": "scatter",
         "x": {
          "bdata": "mntZEUc/6j9mI6mLju7sP2YjqYuO7uw/AAAAAAAAAAA=",
          "dtype": "f8"
         },
         "xaxis": "x",
         "y": {
          "bdata": "AAAAAACQgMAAAAAAAJCAwAAAAAAACIHAAAAAAAAIgcA=",
          "dtype": "f8"
         },
         "yaxis": "y"
        },
        {
         "hoverinfo": "text",
         "marker": {
          "color": "rgb(255,65,54)"
         },
         "mode": "lines",
         "type": "scatter",
         "x": {
          "bdata": "jl1Nl2B/7j8EfG5+/dLvPwR8bn790u8/ZiOpi47u7D8=",
          "dtype": "f8"
         },
         "xaxis": "x",
         "y": {
          "bdata": "AAAAAACWfsAAAAAAAJZ+wAAAAAAAzIDAAAAAAADMgMA=",
          "dtype": "f8"
         },
         "yaxis": "y"
        },
        {
         "hoverinfo": "text",
         "marker": {
          "color": "rgb(0,116,217)"
         },
         "mode": "lines",
         "type": "scatter",
         "x": {
          "bdata": "KRP5NnW17D/7RhYEbrrwP/tGFgRuuvA/BHxufv3S7z8=",
          "dtype": "f8"
         },
         "xaxis": "x",
         "y": {
          "bdata": "AAAAAABIfMAAAAAAAEh8wAAAAACAC4DAAAAAAIALgMA=",
          "dtype": "f8"
         },
         "yaxis": "y"
        },
        {
         "hoverinfo": "text",
         "marker": {
          "color": "rgb(0,116,217)"
         },
         "mode": "lines",
         "type": "scatter",
         "x": {
          "bdata": "DUadBldr8D929Oc6OB3yP3b05zo4HfI/+0YWBG668D8=",
          "dtype": "f8"
         },
         "xaxis": "x",
         "y": {
          "bdata": "AAAAAIA3dsAAAAAAgDd2wAAAAACAL37AAAAAAIAvfsA=",
          "dtype": "f8"
         },
         "yaxis": "y"
        },
        {
         "hoverinfo": "text",
         "marker": {
          "color": "rgb(0,116,217)"
         },
         "mode": "lines",
         "type": "scatter",
         "x": {
          "bdata": "edT/h8xe7j9gUjBIINnyP2BSMEgg2fI/dvTnOjgd8j8=",
          "dtype": "f8"
         },
         "xaxis": "x",
         "y": {
          "bdata": "AAAAAABocMAAAAAAAGhwwAAAAACAM3rAAAAAAIAzesA=",
          "dtype": "f8"
         },
         "yaxis": "y"
        },
        {
         "hoverinfo": "text",
         "marker": {
          "color": "rgb(35,205,205)"
         },
         "mode": "lines",
         "type": "scatter",
         "x": {
          "bdata": "AAAAAAAAAACsxGc5MDjjP6zEZzkwOOM/AAAAAAAAAAA=",
          "dtype": "f8"
         },
         "xaxis": "x",
         "y": {
          "bdata": "AAAAAAD4gcAAAAAAAPiBwAAAAAAASILAAAAAAABIgsA=",
          "dtype": "f8"
         },
         "yaxis": "y"
        },
        {
         "hoverinfo": "text",
         "marker": {
          "color": "rgb(35,205,205)"
         },
         "mode": "lines",
         "type": "scatter",
         "x": {
          "bdata": "AAAAAAAAAABEs0wwlIHnP0SzTDCUgec/rMRnOTA44z8=",
          "dtype": "f8"
         },
         "xaxis": "x",
         "y": {
          "bdata": "AAAAAACogcAAAAAAAKiBwAAAAAAAIILAAAAAAAAggsA=",
          "dtype": "f8"
         },
         "yaxis": "y"
        },
        {
         "hoverinfo": "text",
         "marker": {
          "color": "rgb(35,205,205)"
         },
         "mode": "lines",
         "type": "scatter",
         "x": {
          "bdata": "RLNMMJSB5z9JcDUaAgzqP0lwNRoCDOo/AAAAAAAAAAA=",
          "dtype": "f8"
         },
         "xaxis": "x",
         "y": {
          "bdata": "AAAAAADkgcAAAAAAAOSBwAAAAAAAmILAAAAAAACYgsA=",
          "dtype": "f8"
         },
         "yaxis": "y"
        },
        {
         "hoverinfo": "text",
         "marker": {
          "color": "rgb(35,205,205)"
         },
         "mode": "lines",
         "type": "scatter",
         "x": {
          "bdata": "AAAAAAAAAACNo9rgeP/rP42j2uB4/+s/SXA1GgIM6j8=",
          "dtype": "f8"
         },
         "xaxis": "x",
         "y": {
          "bdata": "AAAAAABYgcAAAAAAAFiBwAAAAAAAPoLAAAAAAAA+gsA=",
          "dtype": "f8"
         },
         "yaxis": "y"
        },
        {
         "hoverinfo": "text",
         "marker": {
          "color": "rgb(0,116,217)"
         },
         "mode": "lines",
         "type": "scatter",
         "x": {
          "bdata": "YFIwSCDZ8j+0CYcCunzzP7QJhwK6fPM/jaPa4Hj/6z8=",
          "dtype": "f8"
         },
         "xaxis": "x",
         "y": {
          "bdata": "AAAAAMBNdcAAAAAAwE11wAAAAAAAy4HAAAAAAADLgcA=",
          "dtype": "f8"
         },
         "yaxis": "y"
        },
        {
         "hoverinfo": "text",
         "marker": {
          "color": "rgb(61,153,112)"
         },
         "mode": "lines",
         "type": "scatter",
         "x": {
          "bdata": "AAAAAAAAAAABcun1CzvlPwFy6fULO+U/AAAAAAAAAAA=",
          "dtype": "f8"
         },
         "xaxis": "x",
         "y": {
          "bdata": "AAAAAAA4g8AAAAAAADiDwAAAAAAAiIPAAAAAAACIg8A=",
          "dtype": "f8"
         },
         "yaxis": "y"
        },
        {
         "hoverinfo": "text",
         "marker": {
          "color": "rgb(61,153,112)"
         },
         "mode": "lines",
         "type": "scatter",
         "x": {
          "bdata": "AAAAAAAAAABA8wR+wSDqP0DzBH7BIOo/AXLp9Qs75T8=",
          "dtype": "f8"
         },
         "xaxis": "x",
         "y": {
          "bdata": "AAAAAADogsAAAAAAAOiCwAAAAAAAYIPAAAAAAABgg8A=",
          "dtype": "f8"
         },
         "yaxis": "y"
        },
        {
         "hoverinfo": "text",
         "marker": {
          "color": "rgb(255,65,54)"
         },
         "mode": "lines",
         "type": "scatter",
         "x": {
          "bdata": "AAAAAAAAAAAyKy8OD//kPzIrLw4P/+Q/AAAAAAAAAAA=",
          "dtype": "f8"
         },
         "xaxis": "x",
         "y": {
          "bdata": "AAAAAAAohMAAAAAAACiEwAAAAAAAeITAAAAAAAB4hMA=",
          "dtype": "f8"
         },
         "yaxis": "y"
        },
        {
         "hoverinfo": "text",
         "marker": {
          "color": "rgb(255,65,54)"
         },
         "mode": "lines",
         "type": "scatter",
         "x": {
          "bdata": "AAAAAAAAAAA/41WOVh7sPz/jVY5WHuw/MisvDg//5D8=",
          "dtype": "f8"
         },
         "xaxis": "x",
         "y": {
          "bdata": "AAAAAADYg8AAAAAAANiDwAAAAAAAUITAAAAAAABQhMA=",
          "dtype": "f8"
         },
         "yaxis": "y"
        },
        {
         "hoverinfo": "text",
         "marker": {
          "color": "rgb(255,65,54)"
         },
         "mode": "lines",
         "type": "scatter",
         "x": {
          "bdata": "AAAAAAAAAAB8Xyatv87nP3xfJq2/zuc/AAAAAAAAAAA=",
          "dtype": "f8"
         },
         "xaxis": "x",
         "y": {
          "bdata": "AAAAAADIhMAAAAAAAMiEwAAAAAAAGIXAAAAAAAAYhcA=",
          "dtype": "f8"
         },
         "yaxis": "y"
        },
        {
         "hoverinfo": "text",
         "marker": {
          "color": "rgb(255,65,54)"
         },
         "mode": "lines",
         "type": "scatter",
         "x": {
          "bdata": "P+NVjlYe7D8r4wicrfntPyvjCJyt+e0/fF8mrb/O5z8=",
          "dtype": "f8"
         },
         "xaxis": "x",
         "y": {
          "bdata": "AAAAAAAUhMAAAAAAABSEwAAAAAAA8ITAAAAAAADwhMA=",
          "dtype": "f8"
         },
         "yaxis": "y"
        },
        {
         "hoverinfo": "text",
         "marker": {
          "color": "rgb(0,116,217)"
         },
         "mode": "lines",
         "type": "scatter",
         "x": {
          "bdata": "QPMEfsEg6j9s1qr97W3wP2zWqv3tbfA/K+MInK357T8=",
          "dtype": "f8"
         },
         "xaxis": "x",
         "y": {
          "bdata": "AAAAAAAkg8AAAAAAACSDwAAAAAAAgoTAAAAAAACChMA=",
          "dtype": "f8"
         },
         "yaxis": "y"
        },
        {
         "hoverinfo": "text",
         "marker": {
          "color": "rgb(35,205,205)"
         },
         "mode": "lines",
         "type": "scatter",
         "x": {
          "bdata": "AAAAAAAAAABqTDiJ3hToP2pMOIneFOg/AAAAAAAAAAA=",
          "dtype": "f8"
         },
         "xaxis": "x",
         "y": {
          "bdata": "AAAAAAC4hcAAAAAAALiFwAAAAAAACIbAAAAAAAAIhsA=",
          "dtype": "f8"
         },
         "yaxis": "y"
        },
        {
         "hoverinfo": "text",
         "marker": {
          "color": "rgb(35,205,205)"
         },
         "mode": "lines",
         "type": "scatter",
         "x": {
          "bdata": "AAAAAAAAAACellkI+hDpP56WWQj6EOk/akw4id4U6D8=",
          "dtype": "f8"
         },
         "xaxis": "x",
         "y": {
          "bdata": "AAAAAABohcAAAAAAAGiFwAAAAAAA4IXAAAAAAADghcA=",
          "dtype": "f8"
         },
         "yaxis": "y"
        },
        {
         "hoverinfo": "text",
         "marker": {
          "color": "rgb(35,205,205)"
         },
         "mode": "lines",
         "type": "scatter",
         "x": {
          "bdata": "npZZCPoQ6T8MXJ+AtNbrPwxcn4C01us/AAAAAAAAAAA=",
          "dtype": "f8"
         },
         "xaxis": "x",
         "y": {
          "bdata": "AAAAAACkhcAAAAAAAKSFwAAAAAAAWIbAAAAAAABYhsA=",
          "dtype": "f8"
         },
         "yaxis": "y"
        },
        {
         "hoverinfo": "text",
         "marker": {
          "color": "rgb(0,116,217)"
         },
         "mode": "lines",
         "type": "scatter",
         "x": {
          "bdata": "bNaq/e1t8D9+tuh5dN/wP3626Hl03/A/DFyfgLTW6z8=",
          "dtype": "f8"
         },
         "xaxis": "x",
         "y": {
          "bdata": "AAAAAADTg8AAAAAAANODwAAAAAAA/oXAAAAAAAD+hcA=",
          "dtype": "f8"
         },
         "yaxis": "y"
        },
        {
         "hoverinfo": "text",
         "marker": {
          "color": "rgb(0,116,217)"
         },
         "mode": "lines",
         "type": "scatter",
         "x": {
          "bdata": "tAmHArp88z/JEIUxFhP0P8kQhTEWE/Q/frboeXTf8D8=",
          "dtype": "f8"
         },
         "xaxis": "x",
         "y": {
          "bdata": "AAAAAOBxfMAAAAAA4HF8wAAAAACA6ITAAAAAAIDohMA=",
          "dtype": "f8"
         },
         "yaxis": "y"
        },
        {
         "hoverinfo": "text",
         "marker": {
          "color": "rgb(0,116,217)"
         },
         "mode": "lines",
         "type": "scatter",
         "x": {
          "bdata": "8oSvpUaO8z9qggCWPBz1P2qCAJY8HPU/yRCFMRYT9D8=",
          "dtype": "f8"
         },
         "xaxis": "x",
         "y": {
          "bdata": "AAAAAEB1TcAAAAAAQHVNwAAAAAC4kIHAAAAAALiQgcA=",
          "dtype": "f8"
         },
         "yaxis": "y"
        }
       ],
       "layout": {
        "autosize": false,
        "height": 1280,
        "hoverlabel": {
         "bgcolor": "white",
         "font": {
          "family": "Rockwell",
          "size": 16
         }
        },
        "hovermode": "closest",
        "plot_bgcolor": "#ECEFF1",
        "showlegend": false,
        "template": {
         "data": {
          "bar": [
           {
            "error_x": {
             "color": "#2a3f5f"
            },
            "error_y": {
             "color": "#2a3f5f"
            },
            "marker": {
             "line": {
              "color": "white",
              "width": 0.5
             },
             "pattern": {
              "fillmode": "overlay",
              "size": 10,
              "solidity": 0.2
             }
            },
            "type": "bar"
           }
          ],
          "barpolar": [
           {
            "marker": {
             "line": {
              "color": "white",
              "width": 0.5
             },
             "pattern": {
              "fillmode": "overlay",
              "size": 10,
              "solidity": 0.2
             }
            },
            "type": "barpolar"
           }
          ],
          "carpet": [
           {
            "aaxis": {
             "endlinecolor": "#2a3f5f",
             "gridcolor": "#C8D4E3",
             "linecolor": "#C8D4E3",
             "minorgridcolor": "#C8D4E3",
             "startlinecolor": "#2a3f5f"
            },
            "baxis": {
             "endlinecolor": "#2a3f5f",
             "gridcolor": "#C8D4E3",
             "linecolor": "#C8D4E3",
             "minorgridcolor": "#C8D4E3",
             "startlinecolor": "#2a3f5f"
            },
            "type": "carpet"
           }
          ],
          "choropleth": [
           {
            "colorbar": {
             "outlinewidth": 0,
             "ticks": ""
            },
            "type": "choropleth"
           }
          ],
          "contour": [
           {
            "colorbar": {
             "outlinewidth": 0,
             "ticks": ""
            },
            "colorscale": [
             [
              0,
              "#0d0887"
             ],
             [
              0.1111111111111111,
              "#46039f"
             ],
             [
              0.2222222222222222,
              "#7201a8"
             ],
             [
              0.3333333333333333,
              "#9c179e"
             ],
             [
              0.4444444444444444,
              "#bd3786"
             ],
             [
              0.5555555555555556,
              "#d8576b"
             ],
             [
              0.6666666666666666,
              "#ed7953"
             ],
             [
              0.7777777777777778,
              "#fb9f3a"
             ],
             [
              0.8888888888888888,
              "#fdca26"
             ],
             [
              1,
              "#f0f921"
             ]
            ],
            "type": "contour"
           }
          ],
          "contourcarpet": [
           {
            "colorbar": {
             "outlinewidth": 0,
             "ticks": ""
            },
            "type": "contourcarpet"
           }
          ],
          "heatmap": [
           {
            "colorbar": {
             "outlinewidth": 0,
             "ticks": ""
            },
            "colorscale": [
             [
              0,
              "#0d0887"
             ],
             [
              0.1111111111111111,
              "#46039f"
             ],
             [
              0.2222222222222222,
              "#7201a8"
             ],
             [
              0.3333333333333333,
              "#9c179e"
             ],
             [
              0.4444444444444444,
              "#bd3786"
             ],
             [
              0.5555555555555556,
              "#d8576b"
             ],
             [
              0.6666666666666666,
              "#ed7953"
             ],
             [
              0.7777777777777778,
              "#fb9f3a"
             ],
             [
              0.8888888888888888,
              "#fdca26"
             ],
             [
              1,
              "#f0f921"
             ]
            ],
            "type": "heatmap"
           }
          ],
          "histogram": [
           {
            "marker": {
             "pattern": {
              "fillmode": "overlay",
              "size": 10,
              "solidity": 0.2
             }
            },
            "type": "histogram"
           }
          ],
          "histogram2d": [
           {
            "colorbar": {
             "outlinewidth": 0,
             "ticks": ""
            },
            "colorscale": [
             [
              0,
              "#0d0887"
             ],
             [
              0.1111111111111111,
              "#46039f"
             ],
             [
              0.2222222222222222,
              "#7201a8"
             ],
             [
              0.3333333333333333,
              "#9c179e"
             ],
             [
              0.4444444444444444,
              "#bd3786"
             ],
             [
              0.5555555555555556,
              "#d8576b"
             ],
             [
              0.6666666666666666,
              "#ed7953"
             ],
             [
              0.7777777777777778,
              "#fb9f3a"
             ],
             [
              0.8888888888888888,
              "#fdca26"
             ],
             [
              1,
              "#f0f921"
             ]
            ],
            "type": "histogram2d"
           }
          ],
          "histogram2dcontour": [
           {
            "colorbar": {
             "outlinewidth": 0,
             "ticks": ""
            },
            "colorscale": [
             [
              0,
              "#0d0887"
             ],
             [
              0.1111111111111111,
              "#46039f"
             ],
             [
              0.2222222222222222,
              "#7201a8"
             ],
             [
              0.3333333333333333,
              "#9c179e"
             ],
             [
              0.4444444444444444,
              "#bd3786"
             ],
             [
              0.5555555555555556,
              "#d8576b"
             ],
             [
              0.6666666666666666,
              "#ed7953"
             ],
             [
              0.7777777777777778,
              "#fb9f3a"
             ],
             [
              0.8888888888888888,
              "#fdca26"
             ],
             [
              1,
              "#f0f921"
             ]
            ],
            "type": "histogram2dcontour"
           }
          ],
          "mesh3d": [
           {
            "colorbar": {
             "outlinewidth": 0,
             "ticks": ""
            },
            "type": "mesh3d"
           }
          ],
          "parcoords": [
           {
            "line": {
             "colorbar": {
              "outlinewidth": 0,
              "ticks": ""
             }
            },
            "type": "parcoords"
           }
          ],
          "pie": [
           {
            "automargin": true,
            "type": "pie"
           }
          ],
          "scatter": [
           {
            "fillpattern": {
             "fillmode": "overlay",
             "size": 10,
             "solidity": 0.2
            },
            "type": "scatter"
           }
          ],
          "scatter3d": [
           {
            "line": {
             "colorbar": {
              "outlinewidth": 0,
              "ticks": ""
             }
            },
            "marker": {
             "colorbar": {
              "outlinewidth": 0,
              "ticks": ""
             }
            },
            "type": "scatter3d"
           }
          ],
          "scattercarpet": [
           {
            "marker": {
             "colorbar": {
              "outlinewidth": 0,
              "ticks": ""
             }
            },
            "type": "scattercarpet"
           }
          ],
          "scattergeo": [
           {
            "marker": {
             "colorbar": {
              "outlinewidth": 0,
              "ticks": ""
             }
            },
            "type": "scattergeo"
           }
          ],
          "scattergl": [
           {
            "marker": {
             "colorbar": {
              "outlinewidth": 0,
              "ticks": ""
             }
            },
            "type": "scattergl"
           }
          ],
          "scattermap": [
           {
            "marker": {
             "colorbar": {
              "outlinewidth": 0,
              "ticks": ""
             }
            },
            "type": "scattermap"
           }
          ],
          "scattermapbox": [
           {
            "marker": {
             "colorbar": {
              "outlinewidth": 0,
              "ticks": ""
             }
            },
            "type": "scattermapbox"
           }
          ],
          "scatterpolar": [
           {
            "marker": {
             "colorbar": {
              "outlinewidth": 0,
              "ticks": ""
             }
            },
            "type": "scatterpolar"
           }
          ],
          "scatterpolargl": [
           {
            "marker": {
             "colorbar": {
              "outlinewidth": 0,
              "ticks": ""
             }
            },
            "type": "scatterpolargl"
           }
          ],
          "scatterternary": [
           {
            "marker": {
             "colorbar": {
              "outlinewidth": 0,
              "ticks": ""
             }
            },
            "type": "scatterternary"
           }
          ],
          "surface": [
           {
            "colorbar": {
             "outlinewidth": 0,
             "ticks": ""
            },
            "colorscale": [
             [
              0,
              "#0d0887"
             ],
             [
              0.1111111111111111,
              "#46039f"
             ],
             [
              0.2222222222222222,
              "#7201a8"
             ],
             [
              0.3333333333333333,
              "#9c179e"
             ],
             [
              0.4444444444444444,
              "#bd3786"
             ],
             [
              0.5555555555555556,
              "#d8576b"
             ],
             [
              0.6666666666666666,
              "#ed7953"
             ],
             [
              0.7777777777777778,
              "#fb9f3a"
             ],
             [
              0.8888888888888888,
              "#fdca26"
             ],
             [
              1,
              "#f0f921"
             ]
            ],
            "type": "surface"
           }
          ],
          "table": [
           {
            "cells": {
             "fill": {
              "color": "#EBF0F8"
             },
             "line": {
              "color": "white"
             }
            },
            "header": {
             "fill": {
              "color": "#C8D4E3"
             },
             "line": {
              "color": "white"
             }
            },
            "type": "table"
           }
          ]
         },
         "layout": {
          "annotationdefaults": {
           "arrowcolor": "#2a3f5f",
           "arrowhead": 0,
           "arrowwidth": 1
          },
          "autotypenumbers": "strict",
          "coloraxis": {
           "colorbar": {
            "outlinewidth": 0,
            "ticks": ""
           }
          },
          "colorscale": {
           "diverging": [
            [
             0,
             "#8e0152"
            ],
            [
             0.1,
             "#c51b7d"
            ],
            [
             0.2,
             "#de77ae"
            ],
            [
             0.3,
             "#f1b6da"
            ],
            [
             0.4,
             "#fde0ef"
            ],
            [
             0.5,
             "#f7f7f7"
            ],
            [
             0.6,
             "#e6f5d0"
            ],
            [
             0.7,
             "#b8e186"
            ],
            [
             0.8,
             "#7fbc41"
            ],
            [
             0.9,
             "#4d9221"
            ],
            [
             1,
             "#276419"
            ]
           ],
           "sequential": [
            [
             0,
             "#0d0887"
            ],
            [
             0.1111111111111111,
             "#46039f"
            ],
            [
             0.2222222222222222,
             "#7201a8"
            ],
            [
             0.3333333333333333,
             "#9c179e"
            ],
            [
             0.4444444444444444,
             "#bd3786"
            ],
            [
             0.5555555555555556,
             "#d8576b"
            ],
            [
             0.6666666666666666,
             "#ed7953"
            ],
            [
             0.7777777777777778,
             "#fb9f3a"
            ],
            [
             0.8888888888888888,
             "#fdca26"
            ],
            [
             1,
             "#f0f921"
            ]
           ],
           "sequentialminus": [
            [
             0,
             "#0d0887"
            ],
            [
             0.1111111111111111,
             "#46039f"
            ],
            [
             0.2222222222222222,
             "#7201a8"
            ],
            [
             0.3333333333333333,
             "#9c179e"
            ],
            [
             0.4444444444444444,
             "#bd3786"
            ],
            [
             0.5555555555555556,
             "#d8576b"
            ],
            [
             0.6666666666666666,
             "#ed7953"
            ],
            [
             0.7777777777777778,
             "#fb9f3a"
            ],
            [
             0.8888888888888888,
             "#fdca26"
            ],
            [
             1,
             "#f0f921"
            ]
           ]
          },
          "colorway": [
           "#636efa",
           "#EF553B",
           "#00cc96",
           "#ab63fa",
           "#FFA15A",
           "#19d3f3",
           "#FF6692",
           "#B6E880",
           "#FF97FF",
           "#FECB52"
          ],
          "font": {
           "color": "#2a3f5f"
          },
          "geo": {
           "bgcolor": "white",
           "lakecolor": "white",
           "landcolor": "white",
           "showlakes": true,
           "showland": true,
           "subunitcolor": "#C8D4E3"
          },
          "hoverlabel": {
           "align": "left"
          },
          "hovermode": "closest",
          "mapbox": {
           "style": "light"
          },
          "paper_bgcolor": "white",
          "plot_bgcolor": "white",
          "polar": {
           "angularaxis": {
            "gridcolor": "#EBF0F8",
            "linecolor": "#EBF0F8",
            "ticks": ""
           },
           "bgcolor": "white",
           "radialaxis": {
            "gridcolor": "#EBF0F8",
            "linecolor": "#EBF0F8",
            "ticks": ""
           }
          },
          "scene": {
           "xaxis": {
            "backgroundcolor": "white",
            "gridcolor": "#DFE8F3",
            "gridwidth": 2,
            "linecolor": "#EBF0F8",
            "showbackground": true,
            "ticks": "",
            "zerolinecolor": "#EBF0F8"
           },
           "yaxis": {
            "backgroundcolor": "white",
            "gridcolor": "#DFE8F3",
            "gridwidth": 2,
            "linecolor": "#EBF0F8",
            "showbackground": true,
            "ticks": "",
            "zerolinecolor": "#EBF0F8"
           },
           "zaxis": {
            "backgroundcolor": "white",
            "gridcolor": "#DFE8F3",
            "gridwidth": 2,
            "linecolor": "#EBF0F8",
            "showbackground": true,
            "ticks": "",
            "zerolinecolor": "#EBF0F8"
           }
          },
          "shapedefaults": {
           "line": {
            "color": "#2a3f5f"
           }
          },
          "ternary": {
           "aaxis": {
            "gridcolor": "#DFE8F3",
            "linecolor": "#A2B1C6",
            "ticks": ""
           },
           "baxis": {
            "gridcolor": "#DFE8F3",
            "linecolor": "#A2B1C6",
            "ticks": ""
           },
           "bgcolor": "white",
           "caxis": {
            "gridcolor": "#DFE8F3",
            "linecolor": "#A2B1C6",
            "ticks": ""
           }
          },
          "title": {
           "x": 0.05
          },
          "xaxis": {
           "automargin": true,
           "gridcolor": "#EBF0F8",
           "linecolor": "#EBF0F8",
           "ticks": "",
           "title": {
            "standoff": 15
           },
           "zerolinecolor": "#EBF0F8",
           "zerolinewidth": 2
          },
          "yaxis": {
           "automargin": true,
           "gridcolor": "#EBF0F8",
           "linecolor": "#EBF0F8",
           "ticks": "",
           "title": {
            "standoff": 15
           },
           "zerolinecolor": "#EBF0F8",
           "zerolinewidth": 2
          }
         }
        },
        "title": {
         "font": {
          "color": "Black",
          "size": 22
         },
         "text": "<b>Hierarchical Clustering</b>",
         "x": 0.5,
         "xanchor": "center",
         "yanchor": "top"
        },
        "width": 1000,
        "xaxis": {
         "mirror": "allticks",
         "rangemode": "tozero",
         "showgrid": false,
         "showline": true,
         "showticklabels": true,
         "ticks": "outside",
         "type": "linear",
         "zeroline": false
        },
        "yaxis": {
         "mirror": "allticks",
         "range": [
          -720,
          0
         ],
         "rangemode": "tozero",
         "showgrid": false,
         "showline": true,
         "showticklabels": true,
         "tickmode": "array",
         "ticks": "outside",
         "ticktext": [
          "24_commits_prettier_github",
          "38_typescript_standardjs_es...",
          "64_eslint_typescript_es6",
          "22_typescript_types_type",
          "15_testing_tests_test",
          "11_testcontainers_testing_t...",
          "25_swift_xcode_ios",
          "46_dependabot_dependencies_...",
          "69_github_git_repositories",
          "50_features_feature_feature...",
          "17_wikibaseclient_wikibasel...",
          "41_holochain_qml_holoport",
          "6_branches_releases_branching",
          "2_docker_kubernetes_deploym...",
          "8_python_django_flask",
          "0_jsx_fxa_react",
          "5_apis_swagger_api",
          "1_storing_storage_metadata",
          "3_rabbitmq_queue_listener",
          "45_graphql_apis_gql",
          "13_terraform_cloudformation...",
          "62_microservices_microservi...",
          "29_java_jdk_intellij",
          "42_clojure_cljdoc_documenta...",
          "71_hibernate_databases_data...",
          "34_apis_azure_apigee",
          "55_licenses_licensing_licen...",
          "19_eclipse_xml_epl",
          "32_matlab_python_pythonic",
          "66_annotations_tasktype_tasks",
          "23_tensorflow_deeplearning4...",
          "49_pipelines_pipeline_pipel...",
          "10_plugins_specification_va...",
          "48_arachne_owl_configuration",
          "58_konduitservingnodeconfig...",
          "43_openmrs_documentation_se...",
          "65_browser_browsers_browser...",
          "59_scratch3_scratch_ftduino",
          "27_architecture_embedded_vm",
          "37_screens_setloadingscreen...",
          "54_ocrmypdf_pdfs_pdf",
          "44_hyperlink_hyperlinked_fa...",
          "28_translators_translations...",
          "47_flutter_downloader_downl...",
          "53_geocoding_geolocation_ge...",
          "18_elasticsearch_lucene_sea...",
          "36_variantsearch_joinawares...",
          "60_collections_collection_d...",
          "30_uuids_uuid_identifiers",
          "35_fields_database_qualific...",
          "31_authorization_privileges...",
          "39_timestamps_datetime_time...",
          "51_cassandra_atlasdb_transa...",
          "20_cassandramessageidmapper...",
          "67_blobstore_blobstodelete_...",
          "52_protocol_secrecy_otr",
          "33_tokens_proposals_staking",
          "4_tendermint_consensus_evid...",
          "9_cosmos_sdk_protobuf",
          "57_ibc_relaying_relay",
          "56_jwt_jwts_websocket",
          "7_oauth2_oauth_authentication",
          "68_tokens_sessions_session",
          "61_kafkarator_kafka_kuberne...",
          "14_kubernetes_secrets_encrypt",
          "40_edgex_edgexfoundry_secre...",
          "16_prometheus_monitoring_cl...",
          "21_logging_logs_logstash",
          "63_domains_app_domain_inter...",
          "70_ccs_marketplace_services",
          "12_hmpps_frontend_webjars",
          "26_notifications_emails_ale..."
         ],
         "tickvals": [
          -5,
          -15,
          -25,
          -35,
          -45,
          -55,
          -65,
          -75,
          -85,
          -95,
          -105,
          -115,
          -125,
          -135,
          -145,
          -155,
          -165,
          -175,
          -185,
          -195,
          -205,
          -215,
          -225,
          -235,
          -245,
          -255,
          -265,
          -275,
          -285,
          -295,
          -305,
          -315,
          -325,
          -335,
          -345,
          -355,
          -365,
          -375,
          -385,
          -395,
          -405,
          -415,
          -425,
          -435,
          -445,
          -455,
          -465,
          -475,
          -485,
          -495,
          -505,
          -515,
          -525,
          -535,
          -545,
          -555,
          -565,
          -575,
          -585,
          -595,
          -605,
          -615,
          -625,
          -635,
          -645,
          -655,
          -665,
          -675,
          -685,
          -695,
          -705,
          -715
         ],
         "type": "linear",
         "zeroline": false
        }
       }
      }
     },
     "metadata": {},
     "output_type": "display_data"
    }
   ],
   "source": [
    "topic_model.visualize_hierarchy(custom_labels=False) # Topic hierarchy"
   ]
  },
  {
   "cell_type": "markdown",
   "id": "bd2ae4f8",
   "metadata": {},
   "source": [
    "### World Cloud"
   ]
  },
  {
   "cell_type": "code",
   "execution_count": 68,
   "id": "723b3f80",
   "metadata": {},
   "outputs": [],
   "source": [
    "from wordcloud import WordCloud\n",
    "import matplotlib.pyplot as plt\n",
    "\n",
    "def create_wordcloud(model, topic):\n",
    "    text = {word: value for word, value in model.get_topic(topic)}\n",
    "    wc = WordCloud(background_color=\"white\", max_words=1000)\n",
    "    wc.generate_from_frequencies(text)\n",
    "    plt.imshow(wc, interpolation=\"bilinear\")\n",
    "    plt.axis(\"off\")\n",
    "    plt.show()"
   ]
  },
  {
   "cell_type": "code",
   "execution_count": 69,
   "id": "c209f3bb",
   "metadata": {},
   "outputs": [
    {
     "data": {
      "image/png": "[encoded data removed]",
      "text/plain": [
       "<Figure size 640x480 with 1 Axes>"
      ]
     },
     "metadata": {},
     "output_type": "display_data"
    }
   ],
   "source": [
    "# Show wordcloud\n",
    "create_wordcloud(topic_model, topic=1)"
   ]
  },
  {
   "cell_type": "markdown",
   "id": "c0ea96de",
   "metadata": {},
   "source": [
    "---\n",
    "### Metrics"
   ]
  },
  {
   "cell_type": "code",
   "execution_count": null,
   "id": "b65dd92e",
   "metadata": {},
   "outputs": [],
   "source": [
    "def calculate_topic_coherence(model, top_n=10):\n",
    "    topics = model.get_topics()\n",
    "    if -1 in topics:\n",
    "        del topics[-1]\n",
    "    \n",
    "    coherence_scores = []\n",
    "    for topic_id in topics:\n",
    "        words = [word for word, _ in topics[topic_id][:top_n]]\n",
    "        embeddings = embedding_model.encode(words)\n",
    "        \n",
    "        # Compute pairwise cosine similarities\n",
    "        sim_matrix = np.zeros((len(words), len(words)))\n",
    "        for i in range(len(words)):\n",
    "            for j in range(i+1, len(words)):\n",
    "                sim = np.dot(embeddings[i], embeddings[j]) / (\n",
    "                    np.linalg.norm(embeddings[i]) * np.linalg.norm(embeddings[j])\n",
    "                )\n",
    "                sim_matrix[i][j] = sim\n",
    "        avg_sim = np.mean(sim_matrix[np.triu_indices(len(words), k=1)])\n",
    "        coherence_scores.append(avg_sim) # Mean similarity for the topic\n",
    "    \n",
    "    return np.mean(coherence_scores) # Mean similarity for all topics"
   ]
  },
  {
   "cell_type": "code",
   "execution_count": 94,
   "id": "a25f77a1",
   "metadata": {},
   "outputs": [],
   "source": [
    "from itertools import combinations\n",
    "\n",
    "def calculate_topic_diversity(model, top_n=10):\n",
    "    # Exclude outlier topic (-1) if present\n",
    "    topics = model.get_topics()\n",
    "    if -1 in topics:\n",
    "        del topics[-1]\n",
    "    \n",
    "    # Extract top words for each topic\n",
    "    topic_words = [set([word for word, _ in topics[topic][:top_n]]) for topic in topics]\n",
    "    \n",
    "    # Compute pairwise Jaccard similarities\n",
    "    jaccard_sims = []\n",
    "    for t1, t2 in combinations(topic_words, 2):\n",
    "        intersection = len(t1 & t2)\n",
    "        union = len(t1 | t2)\n",
    "        jaccard_sim = intersection / union if union != 0 else 0\n",
    "        jaccard_sims.append(jaccard_sim)\n",
    "    \n",
    "    # Average similarity and compute diversity\n",
    "    avg_sim = sum(jaccard_sims) / len(jaccard_sims)\n",
    "    diversity = 1 - avg_sim\n",
    "    return diversity"
   ]
  },
  {
   "cell_type": "code",
   "execution_count": 95,
   "id": "7453ffa2",
   "metadata": {},
   "outputs": [
    {
     "name": "stdout",
     "output_type": "stream",
     "text": [
      "Coherence= 0.36464095826179543\n",
      "Diversity= 0.9959942691350488\n"
     ]
    }
   ],
   "source": [
    "# Topic coherence quantifies the semantic similarity among words within a topic. \n",
    "# A high coherence score indicates that the words in a topic are closely related and likely to appear together in documents\n",
    "# Coherence scores typically range from 0 to 1, with 1 representing perfect coherence and 0 representing no coherence. \n",
    "# For instance, a good coherence score might be around 0.5 or higher\n",
    "\n",
    "# Topic diversity measures how distinct or unique different topics are from each other. \n",
    "# A high diversity score suggests that the topics capture a wide range of different aspects of the corpus.\n",
    "\n",
    "\n",
    "print(\"Coherence=\", calculate_topic_coherence(topic_model))\n",
    "print(\"Diversity=\", calculate_topic_diversity(topic_model))"
   ]
  }
 ],
 "metadata": {
  "kernelspec": {
   "display_name": "adrs",
   "language": "python",
   "name": "python3"
  },
  "language_info": {
   "codemirror_mode": {
    "name": "ipython",
    "version": 3
   },
   "file_extension": ".py",
   "mimetype": "text/x-python",
   "name": "python",
   "nbconvert_exporter": "python",
   "pygments_lexer": "ipython3",
   "version": "3.11.11"
  }
 },
 "nbformat": 4,
 "nbformat_minor": 5
}
